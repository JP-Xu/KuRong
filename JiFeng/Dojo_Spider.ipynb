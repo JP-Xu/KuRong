{
 "cells": [
  {
   "cell_type": "code",
   "execution_count": 16,
   "id": "5681b0ca",
   "metadata": {},
   "outputs": [],
   "source": [
    "from selenium import webdriver\n",
    "from selenium.webdriver.common.keys import Keys\n",
    "from selenium.webdriver.support.ui import WebDriverWait\n",
    "from selenium.webdriver.support import expected_conditions as EC\n",
    "from selenium.webdriver.common.by import By\n",
    "from selenium.webdriver.common.action_chains import ActionChains\n",
    "import time\n",
    "import pandas as pd\n",
    "import numpy as np\n",
    "import regex as re\n",
    "import requests\n",
    "import os\n",
    "import sys\n",
    "from io import StringIO\n",
    "import pymongo\n",
    "import urllib"
   ]
  },
  {
   "cell_type": "code",
   "execution_count": 17,
   "id": "523550c2",
   "metadata": {},
   "outputs": [],
   "source": [
    "def extract_components_table():\n",
    "    '''\n",
    "    extract components table on the right side.\n",
    "    '''\n",
    "    names_cols = ['Component', 'Name', 'Formula', 'Mol weight', 'Structure']\n",
    "    components_first_row = driver.find_element(By.XPATH, '//*[@id=\"dscomp_pane\"]/table/tr[1]').text\n",
    "    components_not_first_row = driver.find_element(By.XPATH, '//*[@id=\"dscomp_pane\"]/table').text[len(components_first_row):]\n",
    "    num_rows = len(re.findall('\\n', components_not_first_row))\n",
    "    num_img = len(re.findall(\"\\n\", driver.find_element(By.XPATH,\"//*[@id='dscomp_pane']/table\").text))\n",
    "\n",
    "\n",
    "    components_df = pd.DataFrame( np.nan, index=2, columns = names_cols)\n",
    "    \n",
    "    \n",
    "    df = pd.read_csv(StringIO(components_first_row), sep=' +', header=None)    \n",
    "    df.columns = names_cols    \n",
    "    \n",
    "    return df"
   ]
  },
  {
   "cell_type": "code",
   "execution_count": 18,
   "id": "c7b39fbe",
   "metadata": {},
   "outputs": [],
   "source": [
    "def extract_reference():\n",
    "    '''\n",
    "    return title and reference of data.\n",
    "    '''\n",
    "    return driver.find_element(By.ID, \"refview\").text.split('\\n')[1:]  "
   ]
  },
  {
   "cell_type": "code",
   "execution_count": 171,
   "id": "7b5d6b31",
   "metadata": {},
   "outputs": [],
   "source": [
    "def get_smiles(chemical_name):\n",
    "    '''\n",
    "    This function require \"requests\" package to run. \n",
    "    :param chemical_name: chemical name, alphanumeric,.\n",
    "    \n",
    "    '''\n",
    "    smiles = []\n",
    "    for i in re.split(\" \", chemical_name, 1):\n",
    "        r = requests.get(\"https://pubchem.ncbi.nlm.nih.gov/rest/pug/compound/name/%s/property/CanonicalSMILES/txt\"%i)\n",
    "        \n",
    "        if r.status_code == 200:\n",
    "            smiles.append(r.content.decode('ascii').strip())\n",
    "        else:\n",
    "            try:\n",
    "                smile = get_smile_from_google(i)\n",
    "                smiles.append(smile)\n",
    "            except:\n",
    "                smiles.append(\"NA\")\n",
    "                print(\"SMILES searching failed\")\n",
    "    return '~'.join(smiles)"
   ]
  },
  {
   "cell_type": "code",
   "execution_count": 211,
   "id": "3e8be535",
   "metadata": {},
   "outputs": [],
   "source": [
    "def get_smile_from_google(chemical_name):\n",
    "    \"\"\"\n",
    "    returns SMILES structure by using the first pubchem search result on Google.\n",
    "    Once on pubchem, it clicks the parent link and extract Smiles.\n",
    "    input chemical_name: string\n",
    "    \"\"\"\n",
    "    \n",
    "    chrome_options = webdriver.ChromeOptions()\n",
    "    chrome_options.add_argument('--headless')\n",
    "    chrome_options.add_argument('--no-sandbox')\n",
    "    driver = webdriver.Chrome()\n",
    "    url = \"https://www.google.com\"\n",
    "    driver.get(url)\n",
    "    \n",
    "    ## Pull up search results by key_words.\n",
    "    search_box = driver.find_element(By.NAME, 'q')\n",
    "    search_box.clear()\n",
    "    search_box.send_keys(chemical_name)\n",
    "    search_box.send_keys(Keys.RETURN)\n",
    "    \n",
    "    # find and navigate to pubchem website\n",
    "    result = driver.find_elements_by_xpath(\"//a[@href]\")\n",
    "    pubchem_url = [ i.get_attribute(\"href\") for i in result if 'pubchem' in i.get_attribute(\"href\") ][0]\n",
    "    driver.get(pubchem_url)\n",
    "    \n",
    "    ## Get parent compound link from pubchem webpage.\n",
    "    time.sleep(2)\n",
    "    result = driver.find_elements_by_xpath(\"//a[@href]\")\n",
    "    parent_link = [ i.get_attribute(\"href\") for i in result if i.get_attribute(\"data-label\") == \"Content Link: Parent-Compound\"][0]\n",
    "    \n",
    "    driver.get(parent_link)\n",
    "    time.sleep(1)\n",
    "    result = driver.find_element_by_xpath(\"//section[@id='Canonical-SMILES']/div[@class='section-content']/div[@class='section-content-item']/p\")\n",
    "    smile = result.text\n",
    "    \n",
    "    driver.close()\n",
    "    #print(smile)\n",
    "    return smile"
   ]
  },
  {
   "cell_type": "code",
   "execution_count": 212,
   "id": "9c16568f",
   "metadata": {},
   "outputs": [
    {
     "data": {
      "text/plain": [
       "'CC[S+](CC)CC'"
      ]
     },
     "execution_count": 212,
     "metadata": {},
     "output_type": "execute_result"
    }
   ],
   "source": [
    "\n",
    "get_smile_from_google(\"bis(trifluoromethanesulfonyl)imide\")\n"
   ]
  },
  {
   "cell_type": "code",
   "execution_count": null,
   "id": "f2674503",
   "metadata": {},
   "outputs": [],
   "source": []
  },
  {
   "cell_type": "code",
   "execution_count": 98,
   "id": "7e9e63ee",
   "metadata": {},
   "outputs": [],
   "source": [
    "def extract_component_table( ):\n",
    "    '''\n",
    "    requires: get_smiles function.\n",
    "    \n",
    "    return component table as dataframe, and save structure images to images folder in current folder.\n",
    "    '''\n",
    "    if not os.path.exists('./images'):\n",
    "        os.mkdir(\"./images\")\n",
    "        \n",
    "    names_cols = ['Component', 'Name', 'Formula', 'Mol weight', 'SMILES', 'Structure']\n",
    "    ## Number of components. use for image saving loop.\n",
    "    num_rows = len(re.findall(\"\\n\", driver.find_element(By.XPATH, \"//*[@id='dscomp_pane']/table\").text))\n",
    "    component_matrix = []\n",
    "\n",
    "    for i in range(num_rows):\n",
    "        component_row = []\n",
    "        for j in range(4):\n",
    "            component_row.append(driver.find_element( By.XPATH, \"//*[@id='dscomp_pane']/table/tr[{}]/td[{}]\".format(i+2, j+1)).text)\n",
    "\n",
    "\n",
    "        img_url = driver.find_element(By.XPATH, \"//*[@id='dscomp_pane']/table/tr[{}]/td[5]/input\".format(i+2)).get_attribute(\"src\")\n",
    "        img_name = re.split('=',img_url)[-1]\n",
    "\n",
    "        ## Avoiding save if exists duplicated file.\n",
    "        if not os.path.exists('./images/{}.jpeg'.format(img_name)):\n",
    "            img = requests.get(img_url, headers={'user-agent':'Chrome/16.0'}, timeout=30)\n",
    "\n",
    "            with open('./images/{}.jpeg'.format(img_name), 'wb') as imgf:\n",
    "                imgf.write(img.content)\n",
    "                \n",
    "        component_row.append(get_smiles(component_row[1] ))\n",
    "        component_row.append(img_url)\n",
    "        component_matrix.append(component_row)\n",
    "    \n",
    "    df = pd.DataFrame(component_matrix, columns=names_cols)\n",
    "    \n",
    "    return df"
   ]
  },
  {
   "cell_type": "code",
   "execution_count": 99,
   "id": "fe6294de",
   "metadata": {},
   "outputs": [],
   "source": [
    "def extract_data_table():\n",
    "    '''\n",
    "    Extract experimental data table on the right side.\n",
    "    '''\n",
    "    data_first_row = driver.find_element(By.XPATH, '//*[@id=\"dsdata_pane\"]/table[2]/tr[1]').text\n",
    "    data_not_first_row = driver.find_element(By.XPATH, '//*[@id=\"dsdata_pane\"]/table[2]').text[len(data_first_row):]\n",
    "    data_not_first_row = re.sub(\" +± +\", \"±\", data_not_first_row)\n",
    "    df = pd.read_csv(StringIO(data_not_first_row), sep=' +', header=None, engine='python')\n",
    "    num_cols = df.shape[1]\n",
    "\n",
    "    names_cols = []\n",
    "    for i in range(num_cols):\n",
    "        names_cols.append(driver.find_element(By.XPATH, '//*[@id=\"dsdata_pane\"]/table[2]/tr[1]/th[{}]'.format(i+1)).text)\n",
    "    df.columns = names_cols\n",
    "    \n",
    "    return df"
   ]
  },
  {
   "cell_type": "code",
   "execution_count": 100,
   "id": "556aded1",
   "metadata": {},
   "outputs": [],
   "source": [
    "# Set up mongodb connection:\n",
    "client = pymongo.MongoClient(\"mongodb://127.0.0.1:27017\")\n",
    "db = client.JiFeng\n",
    "con = db.ILthermo"
   ]
  },
  {
   "cell_type": "code",
   "execution_count": 101,
   "id": "3857031b",
   "metadata": {},
   "outputs": [],
   "source": [
    "chrome_options = webdriver.ChromeOptions()\n",
    "chrome_options.add_argument('--headless')\n",
    "chrome_options.add_argument('--no-sandbox')\n",
    "driver = webdriver.Chrome()\n",
    "url = \"https://ilthermo.boulder.nist.gov\"\n",
    "driver.get(url)\n",
    "IL_name = \"a\""
   ]
  },
  {
   "cell_type": "code",
   "execution_count": 117,
   "id": "1513db16",
   "metadata": {},
   "outputs": [],
   "source": [
    "\n",
    "\n",
    "\n",
    "## Pull up search results by key_words.\n",
    "search_box = driver.find_element(By.ID, 'sbutton_label')\n",
    "search_box.click()\n",
    "\n",
    "IL_search_box = driver.find_element(By.ID, \"cmp\")\n",
    "IL_search_box.send_keys(IL_name)\n",
    "\n",
    "IL_search_button = driver.find_element(By.XPATH, \"/html/body/div[4]/div[2]/div[2]/span[1]\")\n",
    "IL_search_button.click()\n",
    "\n",
    "time.sleep(30)\n",
    "num_pages = int(driver.find_element(By.XPATH, '//*[@id=\"dsgrid\"]/div[4]/div/div[2]/span[2]/span[5]').text)\n",
    "\n",
    "\n",
    "## Saving left table.\n",
    "\n"
   ]
  },
  {
   "cell_type": "code",
   "execution_count": 116,
   "id": "56e8b16c",
   "metadata": {},
   "outputs": [
    {
     "ename": "NoSuchWindowException",
     "evalue": "Message: no such window: window was already closed\n  (Session info: chrome=102.0.5005.115)\n",
     "output_type": "error",
     "traceback": [
      "\u001b[0;31m---------------------------------------------------------------------------\u001b[0m",
      "\u001b[0;31mNoSuchWindowException\u001b[0m                     Traceback (most recent call last)",
      "Input \u001b[0;32mIn [116]\u001b[0m, in \u001b[0;36m<cell line: 1>\u001b[0;34m()\u001b[0m\n\u001b[0;32m----> 1\u001b[0m \u001b[43mdriver\u001b[49m\u001b[38;5;241;43m.\u001b[39;49m\u001b[43mmaximize_window\u001b[49m\u001b[43m(\u001b[49m\u001b[43m)\u001b[49m\n\u001b[1;32m      2\u001b[0m split_bar_id \u001b[38;5;241m=\u001b[39m \u001b[38;5;124m\"\u001b[39m\u001b[38;5;124mgridholder_splitter\u001b[39m\u001b[38;5;124m\"\u001b[39m\n\u001b[1;32m      3\u001b[0m split_bar \u001b[38;5;241m=\u001b[39m driver\u001b[38;5;241m.\u001b[39mfind_element(By\u001b[38;5;241m.\u001b[39mID, split_bar_id)\n",
      "File \u001b[0;32m/usr/local/Caskroom/miniconda/base/lib/python3.9/site-packages/selenium/webdriver/remote/webdriver.py:737\u001b[0m, in \u001b[0;36mWebDriver.maximize_window\u001b[0;34m(self)\u001b[0m\n\u001b[1;32m    735\u001b[0m     command \u001b[38;5;241m=\u001b[39m Command\u001b[38;5;241m.\u001b[39mMAXIMIZE_WINDOW\n\u001b[1;32m    736\u001b[0m     params \u001b[38;5;241m=\u001b[39m {\u001b[38;5;124m'\u001b[39m\u001b[38;5;124mwindowHandle\u001b[39m\u001b[38;5;124m'\u001b[39m: \u001b[38;5;124m'\u001b[39m\u001b[38;5;124mcurrent\u001b[39m\u001b[38;5;124m'\u001b[39m}\n\u001b[0;32m--> 737\u001b[0m \u001b[38;5;28;43mself\u001b[39;49m\u001b[38;5;241;43m.\u001b[39;49m\u001b[43mexecute\u001b[49m\u001b[43m(\u001b[49m\u001b[43mcommand\u001b[49m\u001b[43m,\u001b[49m\u001b[43m \u001b[49m\u001b[43mparams\u001b[49m\u001b[43m)\u001b[49m\n",
      "File \u001b[0;32m/usr/local/Caskroom/miniconda/base/lib/python3.9/site-packages/selenium/webdriver/remote/webdriver.py:321\u001b[0m, in \u001b[0;36mWebDriver.execute\u001b[0;34m(self, driver_command, params)\u001b[0m\n\u001b[1;32m    319\u001b[0m response \u001b[38;5;241m=\u001b[39m \u001b[38;5;28mself\u001b[39m\u001b[38;5;241m.\u001b[39mcommand_executor\u001b[38;5;241m.\u001b[39mexecute(driver_command, params)\n\u001b[1;32m    320\u001b[0m \u001b[38;5;28;01mif\u001b[39;00m response:\n\u001b[0;32m--> 321\u001b[0m     \u001b[38;5;28;43mself\u001b[39;49m\u001b[38;5;241;43m.\u001b[39;49m\u001b[43merror_handler\u001b[49m\u001b[38;5;241;43m.\u001b[39;49m\u001b[43mcheck_response\u001b[49m\u001b[43m(\u001b[49m\u001b[43mresponse\u001b[49m\u001b[43m)\u001b[49m\n\u001b[1;32m    322\u001b[0m     response[\u001b[38;5;124m'\u001b[39m\u001b[38;5;124mvalue\u001b[39m\u001b[38;5;124m'\u001b[39m] \u001b[38;5;241m=\u001b[39m \u001b[38;5;28mself\u001b[39m\u001b[38;5;241m.\u001b[39m_unwrap_value(\n\u001b[1;32m    323\u001b[0m         response\u001b[38;5;241m.\u001b[39mget(\u001b[38;5;124m'\u001b[39m\u001b[38;5;124mvalue\u001b[39m\u001b[38;5;124m'\u001b[39m, \u001b[38;5;28;01mNone\u001b[39;00m))\n\u001b[1;32m    324\u001b[0m     \u001b[38;5;28;01mreturn\u001b[39;00m response\n",
      "File \u001b[0;32m/usr/local/Caskroom/miniconda/base/lib/python3.9/site-packages/selenium/webdriver/remote/errorhandler.py:242\u001b[0m, in \u001b[0;36mErrorHandler.check_response\u001b[0;34m(self, response)\u001b[0m\n\u001b[1;32m    240\u001b[0m         alert_text \u001b[38;5;241m=\u001b[39m value[\u001b[38;5;124m'\u001b[39m\u001b[38;5;124malert\u001b[39m\u001b[38;5;124m'\u001b[39m]\u001b[38;5;241m.\u001b[39mget(\u001b[38;5;124m'\u001b[39m\u001b[38;5;124mtext\u001b[39m\u001b[38;5;124m'\u001b[39m)\n\u001b[1;32m    241\u001b[0m     \u001b[38;5;28;01mraise\u001b[39;00m exception_class(message, screen, stacktrace, alert_text)\n\u001b[0;32m--> 242\u001b[0m \u001b[38;5;28;01mraise\u001b[39;00m exception_class(message, screen, stacktrace)\n",
      "\u001b[0;31mNoSuchWindowException\u001b[0m: Message: no such window: window was already closed\n  (Session info: chrome=102.0.5005.115)\n"
     ]
    }
   ],
   "source": [
    "driver.maximize_window()\n",
    "split_bar_id = \"gridholder_splitter\"\n",
    "split_bar = driver.find_element(By.ID, split_bar_id)\n",
    "time.sleep(2)\n",
    "action = ActionChains(driver)\n",
    "action.drag_and_drop_by_offset(split_bar, -500, 0).perform()\n",
    "\n"
   ]
  },
  {
   "cell_type": "code",
   "execution_count": 121,
   "id": "c248d76a",
   "metadata": {
    "scrolled": true
   },
   "outputs": [
    {
     "name": "stdout",
     "output_type": "stream",
     "text": [
      "Page is ready!\n",
      "Page is ready!\n",
      "Page is ready!\n",
      "Page is ready!\n",
      "Page is ready!\n",
      "Page is ready!\n",
      "IL_row failed.\n",
      "Page is ready!\n",
      "Page is ready!\n",
      "Page is ready!\n",
      "Page is ready!\n",
      "Page is ready!\n",
      "Page is ready!\n",
      "Page is ready!\n",
      "Page is ready!\n",
      "Page is ready!\n",
      "Page is ready!\n",
      "Page is ready!\n",
      "Page is ready!\n",
      "Page is ready!\n",
      "Page is ready!\n",
      "Page is ready!\n",
      "Page is ready!\n",
      "Page is ready!\n",
      "Page is ready!\n",
      "Page is ready!\n",
      "Page is ready!\n",
      "Page is ready!\n",
      "Page is ready!\n",
      "Page is ready!\n",
      "Page is ready!\n",
      "Page is ready!\n",
      "Page is ready!\n",
      "Page is ready!\n",
      "Page is ready!\n",
      "Page is ready!\n",
      "Page is ready!\n",
      "Page is ready!\n",
      "Page is ready!\n",
      "Page is ready!\n",
      "Page is ready!\n",
      "Page is ready!\n",
      "Page is ready!\n",
      "Page is ready!\n",
      "Page is ready!\n",
      "Page is ready!\n",
      "Page is ready!\n",
      "Page is ready!\n",
      "Page is ready!\n",
      "Page is ready!\n",
      "Page is ready!\n",
      "Page is ready!\n",
      "Page is ready!\n",
      "Page is ready!\n",
      "Page is ready!\n",
      "Page is ready!\n",
      "Page is ready!\n",
      "Page is ready!\n",
      "Page is ready!\n",
      "Page is ready!\n",
      "Page is ready!\n",
      "Page is ready!\n",
      "Page is ready!\n",
      "Page is ready!\n",
      "Page is ready!\n",
      "Page is ready!\n",
      "Page is ready!\n",
      "Page is ready!\n",
      "Page is ready!\n",
      "Page is ready!\n",
      "Page is ready!\n",
      "Page is ready!\n",
      "Page is ready!\n",
      "Page is ready!\n",
      "Page is ready!\n",
      "Page is ready!\n",
      "Page is ready!\n",
      "Page is ready!\n",
      "Page is ready!\n",
      "Page is ready!\n",
      "Page is ready!\n",
      "Page is ready!\n",
      "Page is ready!\n",
      "Page is ready!\n",
      "Page is ready!\n",
      "Page is ready!\n",
      "Page is ready!\n",
      "Page is ready!\n",
      "Page is ready!\n",
      "Page is ready!\n",
      "Page is ready!\n",
      "Page is ready!\n",
      "Page is ready!\n",
      "Page is ready!\n",
      "Page is ready!\n",
      "Page is ready!\n",
      "Page is ready!\n",
      "Page is ready!\n"
     ]
    },
    {
     "ename": "NoSuchElementException",
     "evalue": "Message: no such element: Unable to locate element: {\"method\":\"xpath\",\"selector\":\"//*[@id=\"dsgrid\"]/div[4]/div/div[2]/span[2]/span[6]\"}\n  (Session info: chrome=102.0.5005.115)\n",
     "output_type": "error",
     "traceback": [
      "\u001b[0;31m---------------------------------------------------------------------------\u001b[0m",
      "\u001b[0;31mNoSuchElementException\u001b[0m                    Traceback (most recent call last)",
      "Input \u001b[0;32mIn [121]\u001b[0m, in \u001b[0;36m<cell line: 1>\u001b[0;34m()\u001b[0m\n\u001b[1;32m     58\u001b[0m     count \u001b[38;5;241m+\u001b[39m\u001b[38;5;241m=\u001b[39m \u001b[38;5;241m1\u001b[39m\n\u001b[1;32m     59\u001b[0m     \u001b[38;5;66;03m#print(count)\u001b[39;00m\n\u001b[1;32m     60\u001b[0m     \u001b[38;5;66;03m#print(extract_component_table())\u001b[39;00m\n\u001b[0;32m---> 64\u001b[0m next_page_button \u001b[38;5;241m=\u001b[39m \u001b[43mdriver\u001b[49m\u001b[38;5;241;43m.\u001b[39;49m\u001b[43mfind_element\u001b[49m\u001b[43m(\u001b[49m\u001b[43mBy\u001b[49m\u001b[38;5;241;43m.\u001b[39;49m\u001b[43mXPATH\u001b[49m\u001b[43m,\u001b[49m\u001b[43m \u001b[49m\u001b[38;5;124;43m'\u001b[39;49m\u001b[38;5;124;43m//*[@id=\u001b[39;49m\u001b[38;5;124;43m\"\u001b[39;49m\u001b[38;5;124;43mdsgrid\u001b[39;49m\u001b[38;5;124;43m\"\u001b[39;49m\u001b[38;5;124;43m]/div[4]/div/div[2]/span[2]/span[\u001b[39;49m\u001b[38;5;132;43;01m{}\u001b[39;49;00m\u001b[38;5;124;43m]\u001b[39;49m\u001b[38;5;124;43m'\u001b[39;49m\u001b[38;5;241;43m.\u001b[39;49m\u001b[43mformat\u001b[49m\u001b[43m(\u001b[49m\u001b[43mnext_page_locator\u001b[49m\u001b[43m[\u001b[49m\u001b[43mpage\u001b[49m\u001b[43m]\u001b[49m\u001b[43m)\u001b[49m\u001b[43m)\u001b[49m\n\u001b[1;32m     65\u001b[0m next_page_button\u001b[38;5;241m.\u001b[39mclick()\n",
      "File \u001b[0;32m/usr/local/Caskroom/miniconda/base/lib/python3.9/site-packages/selenium/webdriver/remote/webdriver.py:976\u001b[0m, in \u001b[0;36mWebDriver.find_element\u001b[0;34m(self, by, value)\u001b[0m\n\u001b[1;32m    974\u001b[0m         by \u001b[38;5;241m=\u001b[39m By\u001b[38;5;241m.\u001b[39mCSS_SELECTOR\n\u001b[1;32m    975\u001b[0m         value \u001b[38;5;241m=\u001b[39m \u001b[38;5;124m'\u001b[39m\u001b[38;5;124m[name=\u001b[39m\u001b[38;5;124m\"\u001b[39m\u001b[38;5;132;01m%s\u001b[39;00m\u001b[38;5;124m\"\u001b[39m\u001b[38;5;124m]\u001b[39m\u001b[38;5;124m'\u001b[39m \u001b[38;5;241m%\u001b[39m value\n\u001b[0;32m--> 976\u001b[0m \u001b[38;5;28;01mreturn\u001b[39;00m \u001b[38;5;28;43mself\u001b[39;49m\u001b[38;5;241;43m.\u001b[39;49m\u001b[43mexecute\u001b[49m\u001b[43m(\u001b[49m\u001b[43mCommand\u001b[49m\u001b[38;5;241;43m.\u001b[39;49m\u001b[43mFIND_ELEMENT\u001b[49m\u001b[43m,\u001b[49m\u001b[43m \u001b[49m\u001b[43m{\u001b[49m\n\u001b[1;32m    977\u001b[0m \u001b[43m    \u001b[49m\u001b[38;5;124;43m'\u001b[39;49m\u001b[38;5;124;43musing\u001b[39;49m\u001b[38;5;124;43m'\u001b[39;49m\u001b[43m:\u001b[49m\u001b[43m \u001b[49m\u001b[43mby\u001b[49m\u001b[43m,\u001b[49m\n\u001b[1;32m    978\u001b[0m \u001b[43m    \u001b[49m\u001b[38;5;124;43m'\u001b[39;49m\u001b[38;5;124;43mvalue\u001b[39;49m\u001b[38;5;124;43m'\u001b[39;49m\u001b[43m:\u001b[49m\u001b[43m \u001b[49m\u001b[43mvalue\u001b[49m\u001b[43m}\u001b[49m\u001b[43m)\u001b[49m[\u001b[38;5;124m'\u001b[39m\u001b[38;5;124mvalue\u001b[39m\u001b[38;5;124m'\u001b[39m]\n",
      "File \u001b[0;32m/usr/local/Caskroom/miniconda/base/lib/python3.9/site-packages/selenium/webdriver/remote/webdriver.py:321\u001b[0m, in \u001b[0;36mWebDriver.execute\u001b[0;34m(self, driver_command, params)\u001b[0m\n\u001b[1;32m    319\u001b[0m response \u001b[38;5;241m=\u001b[39m \u001b[38;5;28mself\u001b[39m\u001b[38;5;241m.\u001b[39mcommand_executor\u001b[38;5;241m.\u001b[39mexecute(driver_command, params)\n\u001b[1;32m    320\u001b[0m \u001b[38;5;28;01mif\u001b[39;00m response:\n\u001b[0;32m--> 321\u001b[0m     \u001b[38;5;28;43mself\u001b[39;49m\u001b[38;5;241;43m.\u001b[39;49m\u001b[43merror_handler\u001b[49m\u001b[38;5;241;43m.\u001b[39;49m\u001b[43mcheck_response\u001b[49m\u001b[43m(\u001b[49m\u001b[43mresponse\u001b[49m\u001b[43m)\u001b[49m\n\u001b[1;32m    322\u001b[0m     response[\u001b[38;5;124m'\u001b[39m\u001b[38;5;124mvalue\u001b[39m\u001b[38;5;124m'\u001b[39m] \u001b[38;5;241m=\u001b[39m \u001b[38;5;28mself\u001b[39m\u001b[38;5;241m.\u001b[39m_unwrap_value(\n\u001b[1;32m    323\u001b[0m         response\u001b[38;5;241m.\u001b[39mget(\u001b[38;5;124m'\u001b[39m\u001b[38;5;124mvalue\u001b[39m\u001b[38;5;124m'\u001b[39m, \u001b[38;5;28;01mNone\u001b[39;00m))\n\u001b[1;32m    324\u001b[0m     \u001b[38;5;28;01mreturn\u001b[39;00m response\n",
      "File \u001b[0;32m/usr/local/Caskroom/miniconda/base/lib/python3.9/site-packages/selenium/webdriver/remote/errorhandler.py:242\u001b[0m, in \u001b[0;36mErrorHandler.check_response\u001b[0;34m(self, response)\u001b[0m\n\u001b[1;32m    240\u001b[0m         alert_text \u001b[38;5;241m=\u001b[39m value[\u001b[38;5;124m'\u001b[39m\u001b[38;5;124malert\u001b[39m\u001b[38;5;124m'\u001b[39m]\u001b[38;5;241m.\u001b[39mget(\u001b[38;5;124m'\u001b[39m\u001b[38;5;124mtext\u001b[39m\u001b[38;5;124m'\u001b[39m)\n\u001b[1;32m    241\u001b[0m     \u001b[38;5;28;01mraise\u001b[39;00m exception_class(message, screen, stacktrace, alert_text)\n\u001b[0;32m--> 242\u001b[0m \u001b[38;5;28;01mraise\u001b[39;00m exception_class(message, screen, stacktrace)\n",
      "\u001b[0;31mNoSuchElementException\u001b[0m: Message: no such element: Unable to locate element: {\"method\":\"xpath\",\"selector\":\"//*[@id=\"dsgrid\"]/div[4]/div/div[2]/span[2]/span[6]\"}\n  (Session info: chrome=102.0.5005.115)\n"
     ]
    }
   ],
   "source": [
    "if __name__ == \"__main__\":\n",
    "\n",
    "## Calculate number of pages would be looping through\n",
    "    num_pages = int(driver.find_element(By.XPATH, '//*[@id=\"dsgrid\"]/div[4]/div/div[2]/span[2]/span[5]').text)\n",
    "    #count = 0\n",
    "\n",
    "    ## Looping each row in the left table.\n",
    "    #next_page_locator = [2,3,4,5,6] + list(np.repeat(6, num_pages)) ## from beginning\n",
    "    next_page_locator = list(np.repeat(6, num_pages)) ## continue\n",
    "\n",
    "    for page in range(num_pages):\n",
    "\n",
    "        ## Find all rows.\n",
    "        IL_rows = driver.find_elements(By.XPATH, '//*[contains(@id, \"dsgrid-row-\")]')\n",
    "\n",
    "        for i, IL_row in enumerate(IL_rows):\n",
    "            time.sleep(.15)\n",
    "            try:\n",
    "                IL_row.click()\n",
    "            except:\n",
    "                print(\"IL_row failed.\")\n",
    "            time.sleep(.5)\n",
    "            try:\n",
    "                myElem = WebDriverWait(driver, 3).until(EC.presence_of_element_located((By.ID, 'refview')))\n",
    "                print (\"Page is ready!\")\n",
    "            except:\n",
    "                print (\"Loading took too much time!\")\n",
    "                \n",
    "            ## Get info from left table\n",
    "            t = re.sub(\"\\) \", \")\\n\", IL_row.text).split('\\n')\n",
    "            ## Get title and reference.\n",
    "            title, reference = extract_reference()\n",
    "            ## extract basic information for each component:\n",
    "            comp_table = extract_component_table().to_dict(orient = 'records')\n",
    "            #print(comp_table)\n",
    "            ## Make sure list contains three elements.\n",
    "            if len(comp_table) == 1:\n",
    "                comp_table.append({'Name':'None'})\n",
    "                comp_table.append({'Name':'None'})\n",
    "            elif len(comp_table) == 2:\n",
    "                comp_table.append({'Name':'None'})\n",
    "                \n",
    "            ## Extract Data table:\n",
    "            data_table = extract_data_table().to_dict(orient = 'records')\n",
    "            \n",
    "            \n",
    "            ## define post array.        \n",
    "            post_array = {\"_id\": count, \"ref\": t[0], \"property\": t[1], \"phase\": t[2], \"datapoints\": t[3],\n",
    "                         \"title\": title, \"reference\": reference, \n",
    "                          \"component 1\": comp_table[0],\n",
    "                          \"component 2\": comp_table[1],\n",
    "                          \"component 3\": comp_table[2],\n",
    "                          \"data\": data_table}\n",
    "            try:\n",
    "                con.insert_one(post_array)\n",
    "            except:\n",
    "                print(\"ID duplicated.\")\n",
    "            count += 1\n",
    "            #print(count)\n",
    "            #print(extract_component_table())\n",
    "\n",
    "\n",
    "\n",
    "        next_page_button = driver.find_element(By.XPATH, '//*[@id=\"dsgrid\"]/div[4]/div/div[2]/span[2]/span[{}]'.format(next_page_locator[page]))\n",
    "        next_page_button.click()"
   ]
  },
  {
   "cell_type": "code",
   "execution_count": 90,
   "id": "97c7a313",
   "metadata": {},
   "outputs": [],
   "source": [
    "count=count-5"
   ]
  },
  {
   "cell_type": "code",
   "execution_count": 120,
   "id": "967aab62",
   "metadata": {},
   "outputs": [],
   "source": [
    "#num_pages = int(driver.find_element(By.XPATH, '//*[@id=\"dsgrid\"]/div[4]/div/div[2]/span[2]/span[5]').text)\n",
    "\n",
    "for i in range(4502):\n",
    "    next_page_locator = list(np.repeat(6, num_pages))\n",
    "    next_page_button = driver.find_element(By.XPATH, '//*[@id=\"dsgrid\"]/div[4]/div/div[2]/span[2]/span[{}]'.format(next_page_locator[i]))\n",
    "    next_page_button.click()"
   ]
  },
  {
   "cell_type": "code",
   "execution_count": 118,
   "id": "b5916348",
   "metadata": {},
   "outputs": [
    {
     "data": {
      "text/plain": [
       "45023"
      ]
     },
     "execution_count": 118,
     "metadata": {},
     "output_type": "execute_result"
    }
   ],
   "source": [
    "count"
   ]
  },
  {
   "cell_type": "code",
   "execution_count": 107,
   "id": "587f56e2",
   "metadata": {},
   "outputs": [
    {
     "ename": "KeyboardInterrupt",
     "evalue": "Interrupted by user",
     "output_type": "error",
     "traceback": [
      "\u001b[0;31m---------------------------------------------------------------------------\u001b[0m",
      "\u001b[0;31mKeyboardInterrupt\u001b[0m                         Traceback (most recent call last)",
      "Input \u001b[0;32mIn [107]\u001b[0m, in \u001b[0;36m<cell line: 9>\u001b[0;34m()\u001b[0m\n\u001b[1;32m      6\u001b[0m rand2 \u001b[38;5;241m=\u001b[39m random\u001b[38;5;241m.\u001b[39mrandint(\u001b[38;5;241m1\u001b[39m,\u001b[38;5;241m10\u001b[39m)\n\u001b[1;32m      8\u001b[0m \u001b[38;5;66;03m# ask the user to guess the numbers.\u001b[39;00m\n\u001b[0;32m----> 9\u001b[0m guess1 \u001b[38;5;241m=\u001b[39m \u001b[38;5;28;43minput\u001b[39;49m\u001b[43m(\u001b[49m\u001b[38;5;124;43m\"\u001b[39;49m\u001b[38;5;124;43mGuess a number between 1 and 10, inclusive: \u001b[39;49m\u001b[38;5;124;43m\"\u001b[39;49m\u001b[43m)\u001b[49m\n\u001b[1;32m     10\u001b[0m guess2 \u001b[38;5;241m=\u001b[39m \u001b[38;5;28minput\u001b[39m(\u001b[38;5;124m\"\u001b[39m\u001b[38;5;124mGuess another number between 1 and 10, inclusive: \u001b[39m\u001b[38;5;124m\"\u001b[39m)\n\u001b[1;32m     12\u001b[0m \u001b[38;5;66;03m# check whether the user guessed correctly\u001b[39;00m\n",
      "File \u001b[0;32m/usr/local/Caskroom/miniconda/base/lib/python3.9/site-packages/ipykernel/kernelbase.py:1075\u001b[0m, in \u001b[0;36mKernel.raw_input\u001b[0;34m(self, prompt)\u001b[0m\n\u001b[1;32m   1071\u001b[0m \u001b[38;5;28;01mif\u001b[39;00m \u001b[38;5;129;01mnot\u001b[39;00m \u001b[38;5;28mself\u001b[39m\u001b[38;5;241m.\u001b[39m_allow_stdin:\n\u001b[1;32m   1072\u001b[0m     \u001b[38;5;28;01mraise\u001b[39;00m StdinNotImplementedError(\n\u001b[1;32m   1073\u001b[0m         \u001b[38;5;124m\"\u001b[39m\u001b[38;5;124mraw_input was called, but this frontend does not support input requests.\u001b[39m\u001b[38;5;124m\"\u001b[39m\n\u001b[1;32m   1074\u001b[0m     )\n\u001b[0;32m-> 1075\u001b[0m \u001b[38;5;28;01mreturn\u001b[39;00m \u001b[38;5;28;43mself\u001b[39;49m\u001b[38;5;241;43m.\u001b[39;49m\u001b[43m_input_request\u001b[49m\u001b[43m(\u001b[49m\n\u001b[1;32m   1076\u001b[0m \u001b[43m    \u001b[49m\u001b[38;5;28;43mstr\u001b[39;49m\u001b[43m(\u001b[49m\u001b[43mprompt\u001b[49m\u001b[43m)\u001b[49m\u001b[43m,\u001b[49m\n\u001b[1;32m   1077\u001b[0m \u001b[43m    \u001b[49m\u001b[38;5;28;43mself\u001b[39;49m\u001b[38;5;241;43m.\u001b[39;49m\u001b[43m_parent_ident\u001b[49m\u001b[43m[\u001b[49m\u001b[38;5;124;43m\"\u001b[39;49m\u001b[38;5;124;43mshell\u001b[39;49m\u001b[38;5;124;43m\"\u001b[39;49m\u001b[43m]\u001b[49m\u001b[43m,\u001b[49m\n\u001b[1;32m   1078\u001b[0m \u001b[43m    \u001b[49m\u001b[38;5;28;43mself\u001b[39;49m\u001b[38;5;241;43m.\u001b[39;49m\u001b[43mget_parent\u001b[49m\u001b[43m(\u001b[49m\u001b[38;5;124;43m\"\u001b[39;49m\u001b[38;5;124;43mshell\u001b[39;49m\u001b[38;5;124;43m\"\u001b[39;49m\u001b[43m)\u001b[49m\u001b[43m,\u001b[49m\n\u001b[1;32m   1079\u001b[0m \u001b[43m    \u001b[49m\u001b[43mpassword\u001b[49m\u001b[38;5;241;43m=\u001b[39;49m\u001b[38;5;28;43;01mFalse\u001b[39;49;00m\u001b[43m,\u001b[49m\n\u001b[1;32m   1080\u001b[0m \u001b[43m\u001b[49m\u001b[43m)\u001b[49m\n",
      "File \u001b[0;32m/usr/local/Caskroom/miniconda/base/lib/python3.9/site-packages/ipykernel/kernelbase.py:1120\u001b[0m, in \u001b[0;36mKernel._input_request\u001b[0;34m(self, prompt, ident, parent, password)\u001b[0m\n\u001b[1;32m   1117\u001b[0m             \u001b[38;5;28;01mbreak\u001b[39;00m\n\u001b[1;32m   1118\u001b[0m \u001b[38;5;28;01mexcept\u001b[39;00m \u001b[38;5;167;01mKeyboardInterrupt\u001b[39;00m:\n\u001b[1;32m   1119\u001b[0m     \u001b[38;5;66;03m# re-raise KeyboardInterrupt, to truncate traceback\u001b[39;00m\n\u001b[0;32m-> 1120\u001b[0m     \u001b[38;5;28;01mraise\u001b[39;00m \u001b[38;5;167;01mKeyboardInterrupt\u001b[39;00m(\u001b[38;5;124m\"\u001b[39m\u001b[38;5;124mInterrupted by user\u001b[39m\u001b[38;5;124m\"\u001b[39m) \u001b[38;5;28;01mfrom\u001b[39;00m \u001b[38;5;28mNone\u001b[39m\n\u001b[1;32m   1121\u001b[0m \u001b[38;5;28;01mexcept\u001b[39;00m \u001b[38;5;167;01mException\u001b[39;00m:\n\u001b[1;32m   1122\u001b[0m     \u001b[38;5;28mself\u001b[39m\u001b[38;5;241m.\u001b[39mlog\u001b[38;5;241m.\u001b[39mwarning(\u001b[38;5;124m\"\u001b[39m\u001b[38;5;124mInvalid Message:\u001b[39m\u001b[38;5;124m\"\u001b[39m, exc_info\u001b[38;5;241m=\u001b[39m\u001b[38;5;28;01mTrue\u001b[39;00m)\n",
      "\u001b[0;31mKeyboardInterrupt\u001b[0m: Interrupted by user"
     ]
    }
   ],
   "source": [
    "# import the random module, which includes functions related to generating pseudo-random numbers\n",
    "import random\n",
    "\n",
    "# generate two pseudo-random numbers between 1 and 10 inclusive\n",
    "rand1 = random.randint(1,10)\n",
    "rand2 = random.randint(1,10)\n",
    "\n",
    "# ask the user to guess the numbers.\n",
    "guess1 = input(\"Guess a number between 1 and 10, inclusive: \")\n",
    "guess2 = input(\"Guess another number between 1 and 10, inclusive: \")\n",
    "\n",
    "# check whether the user guessed correctly\n",
    "if guess1.isnumeric() and int(guess1) > 0 and int(guess1) < 11:\n",
    "    if guess2.isnumeric() and int(guess2) > 0 and int(guess2) < 11:\n",
    "        if int(guess1) == rand1 and int(guess2)  == rand2:\n",
    "            print(\"Right!\")\n",
    "        if int(guess1) != rand1 or int(guess2) != rand2:\n",
    "            print(\"Totally wrong!\")\n",
    "        elif int(guess1) == rand1 or int(guess2) == rand2:\n",
    "            print(\"Partially right!\")\n",
    "    else:\n",
    "        print(\"Bad second number!\")\n",
    "else:\n",
    "    print(\"Bad first number!\")\n",
    "print(\"Done!\")"
   ]
  },
  {
   "cell_type": "code",
   "execution_count": 70,
   "id": "54141767",
   "metadata": {},
   "outputs": [
    {
     "data": {
      "text/html": [
       "<div>\n",
       "<style scoped>\n",
       "    .dataframe tbody tr th:only-of-type {\n",
       "        vertical-align: middle;\n",
       "    }\n",
       "\n",
       "    .dataframe tbody tr th {\n",
       "        vertical-align: top;\n",
       "    }\n",
       "\n",
       "    .dataframe thead th {\n",
       "        text-align: right;\n",
       "    }\n",
       "</style>\n",
       "<table border=\"1\" class=\"dataframe\">\n",
       "  <thead>\n",
       "    <tr style=\"text-align: right;\">\n",
       "      <th></th>\n",
       "      <th>Component</th>\n",
       "      <th>Name</th>\n",
       "      <th>Formula</th>\n",
       "      <th>Mol weight</th>\n",
       "      <th>SMILES</th>\n",
       "      <th>Structure</th>\n",
       "    </tr>\n",
       "  </thead>\n",
       "  <tbody>\n",
       "    <tr>\n",
       "      <th>0</th>\n",
       "      <td>1</td>\n",
       "      <td>methanol</td>\n",
       "      <td>CH4O</td>\n",
       "      <td>32.04</td>\n",
       "      <td>CO</td>\n",
       "      <td>https://ilthermo.boulder.nist.gov/ILT2/ilimage...</td>\n",
       "    </tr>\n",
       "    <tr>\n",
       "      <th>1</th>\n",
       "      <td>2</td>\n",
       "      <td>1-ethyl-3-methylimidazolium ethyl sulfate</td>\n",
       "      <td>C8H16N2O4S</td>\n",
       "      <td>236.29</td>\n",
       "      <td>CCN1C=C[N+](=C1)C~CCOS(=O)(=O)O\\nCCOS(=O)(=O)[O-]</td>\n",
       "      <td>https://ilthermo.boulder.nist.gov/ILT2/ilimage...</td>\n",
       "    </tr>\n",
       "  </tbody>\n",
       "</table>\n",
       "</div>"
      ],
      "text/plain": [
       "  Component                                       Name     Formula Mol weight  \\\n",
       "0         1                                   methanol        CH4O      32.04   \n",
       "1         2  1-ethyl-3-methylimidazolium ethyl sulfate  C8H16N2O4S     236.29   \n",
       "\n",
       "                                              SMILES  \\\n",
       "0                                                 CO   \n",
       "1  CCN1C=C[N+](=C1)C~CCOS(=O)(=O)O\\nCCOS(=O)(=O)[O-]   \n",
       "\n",
       "                                           Structure  \n",
       "0  https://ilthermo.boulder.nist.gov/ILT2/ilimage...  \n",
       "1  https://ilthermo.boulder.nist.gov/ILT2/ilimage...  "
      ]
     },
     "execution_count": 70,
     "metadata": {},
     "output_type": "execute_result"
    }
   ],
   "source": [
    "extract_component_table()"
   ]
  },
  {
   "cell_type": "code",
   "execution_count": 68,
   "id": "47a02538",
   "metadata": {},
   "outputs": [
    {
     "data": {
      "text/plain": [
       "['1-ethyl-3-methylimidazolium', 'ethyl sulfate']"
      ]
     },
     "execution_count": 68,
     "metadata": {},
     "output_type": "execute_result"
    }
   ],
   "source": [
    "re.split(' ', '1-ethyl-3-methylimidazolium ethyl sulfate', 1)"
   ]
  },
  {
   "cell_type": "code",
   "execution_count": 9,
   "id": "16b76c70",
   "metadata": {},
   "outputs": [],
   "source": [
    "driver = webdriver.Chrome()\n",
    "url = \"https://i6.cims.nyu.edu/~hp1369/index.html\"\n",
    "driver.get(url)\n",
    "IL_name = \"a\"\n",
    "\n",
    "\n",
    "## Pull up search results by key_words.\n"
   ]
  },
  {
   "cell_type": "code",
   "execution_count": 13,
   "id": "e62ddc1a",
   "metadata": {},
   "outputs": [
    {
     "data": {
      "text/plain": [
       "1200"
      ]
     },
     "execution_count": 13,
     "metadata": {},
     "output_type": "execute_result"
    }
   ],
   "source": [
    "driver.set_window_size(1200, 800)\n",
    "container = driver.find_element(By.CSS_SELECTOR, '.container')\n",
    "container.size['width']"
   ]
  },
  {
   "cell_type": "code",
   "execution_count": 22,
   "id": "4c66d2d6",
   "metadata": {},
   "outputs": [],
   "source": [
    "browser_widths = [961, 1400]\n",
    "driver = webdriver.Chrome()\n",
    "\n",
    "\n",
    "for browser_width in browser_widths:\n",
    "  # set the browser width\n",
    "  driver.set_window_size(browser_width, 800)\n",
    "\n",
    "  # the pages to test    \n",
    "  pages = ['index.html', 'about_me.html', 'more_about_me.html', 'topic_of_interest.html']\n",
    "\n",
    "  # test each page\n",
    "  for page in pages:\n",
    "    url = \"{}/{}\".format(\"https://i6.cims.nyu.edu/~hp1369\", page)\n",
    "    driver.get(url) # return to page of interest\n",
    "    sleep(.5)\n",
    "    container = driver.find_element_by_css_selector(\".container\")\n",
    "    header = driver.find_element_by_tag_name(\"header\")\n",
    "    footer = driver.find_element_by_tag_name(\"footer\")\n",
    "    column1 = driver.find_element_by_css_selector(\".column1\")\n",
    "    column2 = driver.find_element_by_css_selector(\".column2\")\n",
    "    column3 = driver.find_element_by_css_selector(\".column3\")\n",
    "\n",
    "    # determine margin and padding on container\n",
    "    # pl = int(container.value_of_css_property('padding-left')[:-2])\n",
    "    # pr = int(container.value_of_css_property('padding-right')[:-2])\n",
    "    # ml = int(container.value_of_css_property('margin-left')[:-2])\n",
    "    # mr = int(container.value_of_css_property('margin-right')[:-2])\n",
    "    # available_width = container.size['width'] - pl - pr - ml - mr\n",
    "\n",
    "    # check widths are appropriate\n",
    "    assert container.size[\"width\"] <= browser_width\n",
    "    assert header.size[\"width\"] <= container.size[\"width\"]\n",
    "    assert footer.size[\"width\"] <= container.size[\"width\"]\n",
    "    assert column1.size[\"width\"] <= container.size[\"width\"]\n",
    "    assert column2.size[\"width\"] <= container.size[\"width\"]\n",
    "    assert column3.size[\"width\"] <= container.size[\"width\"]\n",
    "\n",
    "    # check that the columns fit in one row\n",
    "    assert column1.size['width'] + column2.size['width'] + column3.size['width'] <= container.size[\"width\"]\n",
    "\n",
    "    # remember the size of the container\n",
    "    last_container_width = -1\n",
    "    if last_container_width >= 0:\n",
    "        assert container.size['width'] == last_container_width\n",
    "    else:\n",
    "        last_container_width = container.size['width']\n",
    "\n",
    "    # check floats are appropriate\n",
    "    assert container.value_of_css_property('float') == 'none'\n",
    "    assert column1.value_of_css_property('float') == 'left'\n",
    "    assert column2.value_of_css_property('float') == 'left'\n",
    "    assert column3.value_of_css_property('float') == 'left'"
   ]
  },
  {
   "cell_type": "code",
   "execution_count": 24,
   "id": "534567f8",
   "metadata": {},
   "outputs": [],
   "source": [
    "assert 1 == 1"
   ]
  },
  {
   "cell_type": "code",
   "execution_count": 30,
   "id": "30e4001e",
   "metadata": {},
   "outputs": [
    {
     "ename": "AssertionError",
     "evalue": "",
     "output_type": "error",
     "traceback": [
      "\u001b[0;31m---------------------------------------------------------------------------\u001b[0m",
      "\u001b[0;31mAssertionError\u001b[0m                            Traceback (most recent call last)",
      "Input \u001b[0;32mIn [30]\u001b[0m, in \u001b[0;36m<cell line: 7>\u001b[0;34m()\u001b[0m\n\u001b[1;32m     24\u001b[0m column3 \u001b[38;5;241m=\u001b[39m driver\u001b[38;5;241m.\u001b[39mfind_element_by_css_selector(\u001b[38;5;124m\"\u001b[39m\u001b[38;5;124m.column3\u001b[39m\u001b[38;5;124m\"\u001b[39m)\n\u001b[1;32m     26\u001b[0m \u001b[38;5;66;03m# determine margin and padding on container\u001b[39;00m\n\u001b[1;32m     27\u001b[0m \u001b[38;5;66;03m# pl = int(container.value_of_css_property('padding-left')[:-2])\u001b[39;00m\n\u001b[1;32m     28\u001b[0m \u001b[38;5;66;03m# pr = int(container.value_of_css_property('padding-right')[:-2])\u001b[39;00m\n\u001b[0;32m   (...)\u001b[0m\n\u001b[1;32m     32\u001b[0m \n\u001b[1;32m     33\u001b[0m \u001b[38;5;66;03m# check widths are appropriate\u001b[39;00m\n\u001b[0;32m---> 34\u001b[0m \u001b[38;5;28;01massert\u001b[39;00m container\u001b[38;5;241m.\u001b[39msize[\u001b[38;5;124m\"\u001b[39m\u001b[38;5;124mwidth\u001b[39m\u001b[38;5;124m\"\u001b[39m] \u001b[38;5;241m<\u001b[39m\u001b[38;5;241m=\u001b[39m browser_width\n\u001b[1;32m     35\u001b[0m \u001b[38;5;28;01massert\u001b[39;00m header\u001b[38;5;241m.\u001b[39msize[\u001b[38;5;124m\"\u001b[39m\u001b[38;5;124mwidth\u001b[39m\u001b[38;5;124m\"\u001b[39m] \u001b[38;5;241m<\u001b[39m\u001b[38;5;241m=\u001b[39m container\u001b[38;5;241m.\u001b[39msize[\u001b[38;5;124m\"\u001b[39m\u001b[38;5;124mwidth\u001b[39m\u001b[38;5;124m\"\u001b[39m]\n\u001b[1;32m     36\u001b[0m \u001b[38;5;28;01massert\u001b[39;00m footer\u001b[38;5;241m.\u001b[39msize[\u001b[38;5;124m\"\u001b[39m\u001b[38;5;124mwidth\u001b[39m\u001b[38;5;124m\"\u001b[39m] \u001b[38;5;241m<\u001b[39m\u001b[38;5;241m=\u001b[39m container\u001b[38;5;241m.\u001b[39msize[\u001b[38;5;124m\"\u001b[39m\u001b[38;5;124mwidth\u001b[39m\u001b[38;5;124m\"\u001b[39m]\n",
      "\u001b[0;31mAssertionError\u001b[0m: "
     ]
    }
   ],
   "source": [
    "driver = webdriver.Chrome()\n",
    "\n",
    "\n",
    "browser_widths = [481, 960]  # min and max tablet widths\n",
    "last_container_width = -1 # keep track of the width we detect\n",
    "# try out both min and max widths\n",
    "for browser_width in browser_widths:\n",
    "  # set the browser width\n",
    "  driver.set_window_size(browser_width, 800)\n",
    "\n",
    "  # the pages to test    \n",
    "  pages = ['index.html', 'about_me.html', 'more_about_me.html']#, 'topic_of_interest.html']\n",
    "\n",
    "  # test each page\n",
    "  for page in pages:\n",
    "    url = \"{}/{}\".format(\"https://i6.cims.nyu.edu/~hp1369\", page)\n",
    "    driver.get(url) # return to page of interest\n",
    "\n",
    "    container = driver.find_element_by_css_selector(\".container\")\n",
    "    header = driver.find_element_by_tag_name(\"header\")\n",
    "    footer = driver.find_element_by_tag_name(\"footer\")\n",
    "    column1 = driver.find_element_by_css_selector(\".column1\")\n",
    "    column2 = driver.find_element_by_css_selector(\".column2\")\n",
    "    column3 = driver.find_element_by_css_selector(\".column3\")\n",
    "\n",
    "    # determine margin and padding on container\n",
    "    # pl = int(container.value_of_css_property('padding-left')[:-2])\n",
    "    # pr = int(container.value_of_css_property('padding-right')[:-2])\n",
    "    # ml = int(container.value_of_css_property('margin-left')[:-2])\n",
    "    # mr = int(container.value_of_css_property('margin-right')[:-2])\n",
    "    # available_width = container.size['width'] - pl - pr - ml - mr\n",
    "\n",
    "    # check widths are appropriate\n",
    "    assert container.size[\"width\"] <= browser_width\n",
    "    assert header.size[\"width\"] <= container.size[\"width\"]\n",
    "    assert footer.size[\"width\"] <= container.size[\"width\"]\n",
    "    assert column1.size[\"width\"] <= container.size[\"width\"]\n",
    "    assert column2.size[\"width\"] <= container.size[\"width\"]\n",
    "    assert column3.size[\"width\"] <= container.size[\"width\"]\n",
    "\n",
    "    # check that the columns fit in one row\n",
    "    assert column1.size['width'] + column2.size['width'] <= container.size[\"width\"]\n",
    "\n",
    "    # remember the size of the container\n",
    "    if last_container_width >= 0:\n",
    "        assert container.size['width'] == last_container_width\n",
    "    else:\n",
    "        last_container_width = container.size['width']\n",
    "\n",
    "    # check floats are appropriate\n",
    "    assert container.value_of_css_property('float') == 'none'\n",
    "    assert column1.value_of_css_property('float') == 'left'\n",
    "    assert column2.value_of_css_property('float') == 'left'\n",
    "    # assert column3.value_of_css_property('float') == 'left'"
   ]
  },
  {
   "cell_type": "code",
   "execution_count": 40,
   "id": "306c42ca",
   "metadata": {},
   "outputs": [],
   "source": [
    "driver.set_window_size(1400, 800)"
   ]
  },
  {
   "cell_type": "code",
   "execution_count": 41,
   "id": "5260b8b2",
   "metadata": {},
   "outputs": [
    {
     "data": {
      "text/plain": [
       "{'width': 1400, 'height': 800}"
      ]
     },
     "execution_count": 41,
     "metadata": {},
     "output_type": "execute_result"
    }
   ],
   "source": [
    "driver.get_window_size()"
   ]
  },
  {
   "cell_type": "code",
   "execution_count": null,
   "id": "2331cc0c",
   "metadata": {},
   "outputs": [],
   "source": []
  }
 ],
 "metadata": {
  "kernelspec": {
   "display_name": "Python 3 (ipykernel)",
   "language": "python",
   "name": "python3"
  },
  "language_info": {
   "codemirror_mode": {
    "name": "ipython",
    "version": 3
   },
   "file_extension": ".py",
   "mimetype": "text/x-python",
   "name": "python",
   "nbconvert_exporter": "python",
   "pygments_lexer": "ipython3",
   "version": "3.9.12"
  }
 },
 "nbformat": 4,
 "nbformat_minor": 5
}
