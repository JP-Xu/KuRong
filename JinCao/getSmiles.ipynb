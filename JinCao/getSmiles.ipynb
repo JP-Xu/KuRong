{
 "cells": [
  {
   "cell_type": "code",
   "execution_count": 63,
   "id": "017c101b",
   "metadata": {},
   "outputs": [],
   "source": [
    "import pymongo\n",
    "from pymongo import MongoClient\n",
    "from datetime import date\n",
    "import pandas as pd\n",
    "import numpy as np\n",
    "\n",
    "client = pymongo.MongoClient(\"mongodb://127.0.0.1:27017\")\n",
    "db = client.JiFeng\n",
    "con = db.ILthermo"
   ]
  },
  {
   "cell_type": "code",
   "execution_count": 51,
   "id": "12a3eb71",
   "metadata": {},
   "outputs": [],
   "source": [
    "find_result = con.aggregate([{\"$match\":{\"property\": 'Density'}}, \n",
    "                             {\"$project\":{\"id\":\"$_id\", \"smile\":\"$component 1.SMILES\"}}\n",
    "                            ])\n",
    "a = list(find_result)"
   ]
  },
  {
   "cell_type": "code",
   "execution_count": 52,
   "id": "3397be5d",
   "metadata": {},
   "outputs": [],
   "source": [
    "for i in find_result:\n",
    "    print(i)"
   ]
  },
  {
   "cell_type": "code",
   "execution_count": 56,
   "id": "bf59bc6e",
   "metadata": {},
   "outputs": [],
   "source": [
    "df = pd.DataFrame(a)"
   ]
  },
  {
   "cell_type": "code",
   "execution_count": 57,
   "id": "2470a87a",
   "metadata": {},
   "outputs": [
    {
     "data": {
      "text/html": [
       "<div>\n",
       "<style scoped>\n",
       "    .dataframe tbody tr th:only-of-type {\n",
       "        vertical-align: middle;\n",
       "    }\n",
       "\n",
       "    .dataframe tbody tr th {\n",
       "        vertical-align: top;\n",
       "    }\n",
       "\n",
       "    .dataframe thead th {\n",
       "        text-align: right;\n",
       "    }\n",
       "</style>\n",
       "<table border=\"1\" class=\"dataframe\">\n",
       "  <thead>\n",
       "    <tr style=\"text-align: right;\">\n",
       "      <th></th>\n",
       "      <th>_id</th>\n",
       "      <th>id</th>\n",
       "      <th>smile</th>\n",
       "    </tr>\n",
       "  </thead>\n",
       "  <tbody>\n",
       "    <tr>\n",
       "      <th>0</th>\n",
       "      <td>2</td>\n",
       "      <td>2</td>\n",
       "      <td>CO</td>\n",
       "    </tr>\n",
       "    <tr>\n",
       "      <th>1</th>\n",
       "      <td>4</td>\n",
       "      <td>4</td>\n",
       "      <td>CCO</td>\n",
       "    </tr>\n",
       "    <tr>\n",
       "      <th>2</th>\n",
       "      <td>6</td>\n",
       "      <td>6</td>\n",
       "      <td>C(C(F)(F)F)O</td>\n",
       "    </tr>\n",
       "    <tr>\n",
       "      <th>4</th>\n",
       "      <td>8</td>\n",
       "      <td>8</td>\n",
       "      <td>O</td>\n",
       "    </tr>\n",
       "    <tr>\n",
       "      <th>5</th>\n",
       "      <td>11</td>\n",
       "      <td>11</td>\n",
       "      <td>C[N+]1=CN(C=C1)CC=C~[Cl-]</td>\n",
       "    </tr>\n",
       "    <tr>\n",
       "      <th>...</th>\n",
       "      <td>...</td>\n",
       "      <td>...</td>\n",
       "      <td>...</td>\n",
       "    </tr>\n",
       "    <tr>\n",
       "      <th>7194</th>\n",
       "      <td>44373</td>\n",
       "      <td>44373</td>\n",
       "      <td>CC(C(C1=CC=CC=C1)O)NC~NA</td>\n",
       "    </tr>\n",
       "    <tr>\n",
       "      <th>7203</th>\n",
       "      <td>44436</td>\n",
       "      <td>44436</td>\n",
       "      <td>CCCC[N+](CCCC)(CCCC)CCCC~C(#N)[S-]</td>\n",
       "    </tr>\n",
       "    <tr>\n",
       "      <th>7206</th>\n",
       "      <td>44441</td>\n",
       "      <td>44441</td>\n",
       "      <td>CCCCN1C=C[N+](=C1)C~C(CC(=O)[O-])C(=O)N</td>\n",
       "    </tr>\n",
       "    <tr>\n",
       "      <th>7221</th>\n",
       "      <td>44675</td>\n",
       "      <td>44675</td>\n",
       "      <td>CCCC#N~NA</td>\n",
       "    </tr>\n",
       "    <tr>\n",
       "      <th>7241</th>\n",
       "      <td>44892</td>\n",
       "      <td>44892</td>\n",
       "      <td>CC[N+]1=CC=CC=C1~[B-](F)(F)(F)F</td>\n",
       "    </tr>\n",
       "  </tbody>\n",
       "</table>\n",
       "<p>934 rows × 3 columns</p>\n",
       "</div>"
      ],
      "text/plain": [
       "        _id     id                                    smile\n",
       "0         2      2                                       CO\n",
       "1         4      4                                      CCO\n",
       "2         6      6                             C(C(F)(F)F)O\n",
       "4         8      8                                        O\n",
       "5        11     11                C[N+]1=CN(C=C1)CC=C~[Cl-]\n",
       "...     ...    ...                                      ...\n",
       "7194  44373  44373                 CC(C(C1=CC=CC=C1)O)NC~NA\n",
       "7203  44436  44436       CCCC[N+](CCCC)(CCCC)CCCC~C(#N)[S-]\n",
       "7206  44441  44441  CCCCN1C=C[N+](=C1)C~C(CC(=O)[O-])C(=O)N\n",
       "7221  44675  44675                                CCCC#N~NA\n",
       "7241  44892  44892          CC[N+]1=CC=CC=C1~[B-](F)(F)(F)F\n",
       "\n",
       "[934 rows x 3 columns]"
      ]
     },
     "execution_count": 57,
     "metadata": {},
     "output_type": "execute_result"
    }
   ],
   "source": [
    "df.drop_duplicates(subset=['smile'])"
   ]
  },
  {
   "cell_type": "code",
   "execution_count": 71,
   "id": "8beb4e66",
   "metadata": {},
   "outputs": [
    {
     "data": {
      "text/plain": [
       "[{'_id': 44675,\n",
       "  'ref': 'Zhang et al. (2007a)',\n",
       "  'property': 'Density',\n",
       "  'phase': 'Liquid',\n",
       "  'datapoints': '1',\n",
       "  'title': 'Physicochemical Properties of Nitrile-Functionalized Ionic Liquids',\n",
       "  'reference': 'Zhang, Q.; Li, Z.; Zhang, J.; Zhang, S.; Zhu, L.; Yang, J.; Zhang, X.; Deng, Y. (2007) J. Phys. Chem. B 111, 2864-2872.',\n",
       "  'component 1': {'Component': '1',\n",
       "   'Name': 'N-butyronitrile pyridinium bis(trifluoromethanesulfonyl)imide',\n",
       "   'Formula': 'C11H11F6N3O4S2',\n",
       "   'Mol weight': '427.34',\n",
       "   'SMILES': 'CCCC#N~NA',\n",
       "   'Structure': 'https://ilthermo.boulder.nist.gov/ILT2/ilimage?key=ABeJTi'},\n",
       "  'component 2': {'Name': 'None'},\n",
       "  'component 3': {'Name': 'None'},\n",
       "  'data': [{'Temperature, K': 298.15,\n",
       "    'Pressure, kPa': 101.325,\n",
       "    'Specific density, kg/m3\\nLiquid': '1534±31'}]}]"
      ]
     },
     "execution_count": 71,
     "metadata": {},
     "output_type": "execute_result"
    }
   ],
   "source": [
    "list(con.find({\"_id\":44675}))"
   ]
  },
  {
   "cell_type": "code",
   "execution_count": 68,
   "id": "dababcc7",
   "metadata": {},
   "outputs": [],
   "source": [
    "count = 0\n",
    "for i in np.array(df['smile']):\n",
    "    if 'NA' in i:\n",
    "        count += 1"
   ]
  },
  {
   "cell_type": "code",
   "execution_count": 69,
   "id": "312c5112",
   "metadata": {},
   "outputs": [
    {
     "data": {
      "text/plain": [
       "1984"
      ]
     },
     "execution_count": 69,
     "metadata": {},
     "output_type": "execute_result"
    }
   ],
   "source": [
    "count"
   ]
  },
  {
   "cell_type": "code",
   "execution_count": null,
   "id": "3c17c85e",
   "metadata": {},
   "outputs": [],
   "source": []
  }
 ],
 "metadata": {
  "kernelspec": {
   "display_name": "Python 3 (ipykernel)",
   "language": "python",
   "name": "python3"
  },
  "language_info": {
   "codemirror_mode": {
    "name": "ipython",
    "version": 3
   },
   "file_extension": ".py",
   "mimetype": "text/x-python",
   "name": "python",
   "nbconvert_exporter": "python",
   "pygments_lexer": "ipython3",
   "version": "3.9.12"
  }
 },
 "nbformat": 4,
 "nbformat_minor": 5
}
