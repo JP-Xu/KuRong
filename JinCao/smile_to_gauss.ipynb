{
 "cells": [
  {
   "cell_type": "code",
   "execution_count": 12,
   "id": "f59c5864",
   "metadata": {},
   "outputs": [],
   "source": [
    "from rdkit import Chem\n",
    "from rdkit.Chem import AllChem\n",
    "from rdkit.Chem import Draw\n",
    "import regex as re\n",
    "import numpy as np\n",
    "import urllib.parse ## get smiles url encoded.\n",
    "import requests\n",
    "import os\n",
    "import subprocess"
   ]
  },
  {
   "cell_type": "code",
   "execution_count": 13,
   "id": "521e2342",
   "metadata": {},
   "outputs": [],
   "source": [
    "## smile ==> pdb using REST api.\n",
    "smiles = \"CCOS(=O)(=O)OCCOS(=O)(=O)[O-]\"\n",
    "rest_sdf_url = \"https://pubchem.ncbi.nlm.nih.gov/rest/pug/compound/smiles/{}/sdf?record_type=2d\"\n",
    "rest_name_url = \"https://pubchem.ncbi.nlm.nih.gov/rest/pug/compound/smiles/{}/record/JSON\"\n",
    "smiles_en = rest_sdf_url.format(urllib.parse.quote(smiles))"
   ]
  },
  {
   "cell_type": "code",
   "execution_count": 14,
   "id": "c8b96a49",
   "metadata": {},
   "outputs": [],
   "source": [
    "r = requests.get(smiles_en)"
   ]
  },
  {
   "cell_type": "markdown",
   "id": "65625103",
   "metadata": {},
   "source": [
    "# Using RDKit"
   ]
  },
  {
   "cell_type": "code",
   "execution_count": 15,
   "id": "f7687ebb",
   "metadata": {},
   "outputs": [],
   "source": [
    "def smiles_to_iupac(sims):\n",
    "    \n",
    "    rest_name_url = \"https://pubchem.ncbi.nlm.nih.gov/rest/pug/compound/smiles/{}/record/JSON\"\n",
    "    smiles_en = rest_name_url.format(urllib.parse.quote(sims))\n",
    "    resp = requests.get(smiles_en)\n",
    "    resp_json = resp.json()\n",
    "    return resp_json['PC_Compounds'][0]['props'][7]['value']['sval']\n"
   ]
  },
  {
   "cell_type": "code",
   "execution_count": 42,
   "id": "4f4032e4",
   "metadata": {},
   "outputs": [],
   "source": [
    "def smile_to_gauss(ion_name, sims):\n",
    "    #ion_name = re.sub('[ ~!@#$%^&*()_,=-]', '_', ion_name)\n",
    "    mol = Chem.MolFromSmiles(sims)\n",
    "    m2 = Chem.AddHs(mol)\n",
    "    AllChem.EmbedMolecule(m2)\n",
    "    AllChem.MMFFOptimizeMolecule(m2)\n",
    "    netcharge = Chem.GetFormalCharge(m2)\n",
    "    gauss_body = re.split('\\n\\n', Chem.MolToXYZBlock(m2) ,1)[1]+'\\n'\n",
    "    Chem.PDBWriter(\"{}.pdb\".format(ion_name)).write(m2)\n",
    "    os.system(\"obabel {0}.pdb -O {0}.pdb --gen3d -h\".format(ion_name))\n",
    "    os.system(\"obabel -ipdb {0}_ob.pdb -omol2 > {0}.mol2\".format(ion_name))\n",
    "    gauss_header = '''%NProcShared=28\n",
    "%mem=200GB\n",
    "%Chk=job_{0}.chk\n",
    "#p B3LYP/6-311G** em=GD3BJ Opt freq int=fine\n",
    "\n",
    "{0}\n",
    "\n",
    "{1}  1\n",
    "'''.format(ion_name, netcharge)\n",
    "    \n",
    "    gauss_sps = \"\"\"--link1--\n",
    "%oldchk=./job_{0}.chk\n",
    "%chk=job_{0}_gas.chk\n",
    "# B3LYP/def2TZVP em=GD3BJ geom=allcheck\n",
    "\n",
    "\n",
    "--link1--\n",
    "%oldchk=./job_{0}.chk\n",
    "%chk=job_{0}_solv.chk\n",
    "# B3LYP/def2TZVP em=GD3BJ scrf=solvent geom=allcheck\n",
    "\n",
    "\"\"\".format(ion_name)\n",
    "\n",
    "    with open (\"job_{}.com\".format(ion_name), 'w') as fhandle:\n",
    "        fhandle.writelines(gauss_header+gauss_body+gauss_sps)"
   ]
  },
  {
   "cell_type": "code",
   "execution_count": 57,
   "id": "2c0ae2ab",
   "metadata": {},
   "outputs": [],
   "source": [
    "def gen_submit(ion_name):\n",
    "    sbatch_header = \"\"\"#!/bin/bash \n",
    "#SBATCH -N 1\n",
    "##SBATCH --time=24:00:00\n",
    "#SBATCH --tasks-per-node=1\n",
    "#SBATCH --cpus-per-task=28\n",
    "#SBATCH --job-name={0}\n",
    "#SBATCH -p short\n",
    "#SBATCH --mem=200G\n",
    "#SBATCH -t 1-00:00:00\n",
    "\n",
    "module purge\n",
    "module load gaussian/g16\n",
    "source /shared/centos7/gaussian/g16/bsd/g16.profile\n",
    "source /work/hung_group/xu.jiam/miniconda3/bin/activate  ## Load miniconda\n",
    "\n",
    "export HOME_DIR=$SLURM_SUBMIT_DIR\n",
    "export GAUSS_SCRDIR=$SLURM_SUBMIT_DIR\n",
    "\n",
    "date > {0}.log\n",
    "g16 job_{0}.com\n",
    "date > {0}.log\n",
    "\n",
    "formchk job_{0}.chk {0}.fch\n",
    "formchk job_{0}_gas.chk vac_{0}.fch\n",
    "formchk job_{0}_solv.chk sol_{0}.fch\n",
    "\n",
    "cp /scratch/xu.jiam/multiwfn/settings.inp ./\n",
    "\n",
    "/scratch/xu.jiam/multiwfn/Multiwfn vac_{0}.fch << EOF\n",
    "7\n",
    "18\n",
    "1\n",
    "y\n",
    "q\n",
    "EOF\n",
    "\n",
    "/scratch/xu.jiam/multiwfn/Multiwfn sol_{0}.fch << EOF\n",
    "7\n",
    "18\n",
    "1\n",
    "y\n",
    "q\n",
    "EOF\n",
    "\n",
    "python chg_swap.py --i {0}\n",
    "\n",
    "oldpath=`pwd`\n",
    "cp {0}_resp2.mol2 /scratch/xu.jiam/sobtop\n",
    "cd /scratch/xu.jiam/sobtop\n",
    "cp $oldpath/{0}.fch ./\n",
    "\n",
    "./sobtop {0}_resp2.mol2 << EOF\n",
    "2\n",
    "\n",
    "1\n",
    "2\n",
    "3\n",
    "{0}.fch\n",
    "\n",
    "\n",
    "\n",
    "0\n",
    "EOF\n",
    "\n",
    "cp {0}_resp2.gro $oldpath\n",
    "cp {0}_resp2.top $oldpath\n",
    "cp {0}_resp2.itp $oldpath\n",
    "\n",
    "cd $oldpath\n",
    "\n",
    "python itp_combin.py --i {0}\n",
    "\n",
    "module load openmpi/3.1.2\n",
    "module load python/2.7.15\n",
    "module load gromacs/2018.4-cpu\n",
    "source /shared/centos7/gromacs/2018.4-cpu/bin/GMXRC\n",
    "\n",
    " \n",
    "## if ! [ -f \"ini_0.gro\" ]; then\n",
    "## mpirun -np 1 gmx_mpi insert-molecules -ci {0}_resp2.gro -nmol 1200 -box 10 10 10 -o ini_0.gro\n",
    "## \n",
    "## else\n",
    "## mpirun -np 1 gmx_mpi insert-molecules -f ini_0.gro -ci {0}_resp2.gro -nmol 1200 -box 10 10 10 -o ini.gro\n",
    "## fi\n",
    "\n",
    "\"\"\".format(ion_name)\n",
    "    with open (\"handin_{}.slurm\".format(ion_name), \"w\") as fhandle:\n",
    "        fhandle.write(sbatch_header.format(ion_name))"
   ]
  },
  {
   "cell_type": "code",
   "execution_count": 58,
   "id": "a4765466",
   "metadata": {},
   "outputs": [],
   "source": [
    "def top_file_gen(ion_names):\n",
    "    \n",
    "    if len(ion_names) == 3:\n",
    "        top_file='''\n",
    "[ defaults ]\n",
    "; nbfunc        comb-rule       gen-pairs       fudgeLJ    fudgeQQ\n",
    "     1              2              yes            0.5       0.8333\n",
    "\n",
    "#include \"gaff_nonbon.itp\"\n",
    "#include \"gaff_bon.itp\"\n",
    "#include \"{0}_resp2.itp\"\n",
    "#include \"{1}_resp2.itp\"\n",
    "#include \"{2}_resp2.itp\"\n",
    "\n",
    "[ system ]\n",
    "resp2\n",
    "\n",
    "[ molecules ]\n",
    "; Molecule      nmols\n",
    "{0}_resp2     1200\n",
    "{1}_resp2    1200\n",
    "{2}_resp2    1200'''.format(ion_names[0], ion_names[1], ion_names[2])\n",
    "        with open('system.top', 'w') as fhandle:\n",
    "            fhandle.writelines(top_file)\n",
    "    \n",
    "    elif len(ion_names) == 2:\n",
    "        top_file='''\n",
    "[ defaults ]\n",
    "; nbfunc        comb-rule       gen-pairs       fudgeLJ    fudgeQQ\n",
    "     1              2              yes            0.5       0.8333\n",
    "\n",
    "#include \"gaff_nonbon.itp\"\n",
    "#include \"gaff_bon.itp\"\n",
    "#include \"{0}_resp2.itp\"\n",
    "#include \"{1}_resp2.itp\"\n",
    "\n",
    "[ system ]\n",
    "resp2\n",
    "\n",
    "[ molecules ]\n",
    "; Molecule      nmols\n",
    "{2}     1200\n",
    "{3}    1200'''.format(long_name_to_itp_name(ion_names[0]), long_name_to_itp_name(ion_names[1]),\n",
    "                      long_name_to_3_letters(ion_names[0]), long_name_to_3_letters(ion_names[1]))\n",
    "        with open('system.top', 'w') as fhandle:\n",
    "            fhandle.writelines(top_file)\n",
    "            \n",
    "    elif len(ion_names) == 1:\n",
    "        top_file='''\n",
    "[ defaults ]\n",
    "; nbfunc        comb-rule       gen-pairs       fudgeLJ    fudgeQQ\n",
    "     1              2              yes            0.5       0.8333\n",
    "\n",
    "#include \"{0}_resp2.itp\"\n",
    "\n",
    "[ system ]\n",
    "resp2\n",
    "\n",
    "[ molecules ]\n",
    "; Molecule      nmols\n",
    "{1}     1200'''.format(ion_names[0], re.findall('[a-zA-Z]+', ion_name)[0][:3].upper())\n",
    "        with open('system.top', 'w') as fhandle:\n",
    "            fhandle.writelines(top_file)\n",
    "            "
   ]
  },
  {
   "cell_type": "code",
   "execution_count": 67,
   "id": "a96e90ec",
   "metadata": {},
   "outputs": [],
   "source": [
    "def loadgro():\n",
    "    os.system(\"\"\"\n",
    "module load openmpi/3.1.2\n",
    "module load python/2.7.15\n",
    "module load gromacs/2018.4-cpu\n",
    "source /shared/centos7/gromacs/2018.4-cpu/bin/GMXRC\n",
    "\"\"\")"
   ]
  },
  {
   "cell_type": "code",
   "execution_count": 59,
   "id": "78c24f64",
   "metadata": {},
   "outputs": [],
   "source": [
    "def long_name_to_3_letters(ion_name):\n",
    "    return re.findall('[a-zA-Z]+', ion_name)[0][:3].upper()\n",
    "\n",
    "def long_name_to_itp_name(ion_name):\n",
    "    return re.findall('[a-zA-Z]+', ion_name)[0]"
   ]
  },
  {
   "cell_type": "code",
   "execution_count": 60,
   "id": "a55e83e4",
   "metadata": {},
   "outputs": [],
   "source": [
    "def array_to_list_for_write(array):\n",
    "    rows_to_write = []\n",
    "    for row in array:\n",
    "        row_to_write = \"    \".join(row)\n",
    "        rows_to_write.append('{}\\n'.format(row_to_write))\n",
    "    return rows_to_write"
   ]
  },
  {
   "cell_type": "code",
   "execution_count": 61,
   "id": "f8e3ecaa",
   "metadata": {},
   "outputs": [],
   "source": [
    "#sims = ['CCCCCCN1C=C[N+](=C1)C', 'C(F)(F)(F)S(=NS(=O)(=O)C(F)(F)F)(=O)[O-]']\n"
   ]
  },
  {
   "cell_type": "code",
   "execution_count": null,
   "id": "0ff88932",
   "metadata": {},
   "outputs": [],
   "source": []
  },
  {
   "cell_type": "markdown",
   "id": "060082db",
   "metadata": {},
   "source": [
    "# itp cat"
   ]
  },
  {
   "cell_type": "code",
   "execution_count": 62,
   "id": "0c66624a",
   "metadata": {},
   "outputs": [],
   "source": [
    "#ion_name = '1_hexyl_3_methylimidazol_3_ium'"
   ]
  },
  {
   "cell_type": "code",
   "execution_count": 63,
   "id": "670a966f",
   "metadata": {},
   "outputs": [],
   "source": [
    "def itp_unify(ion_name):\n",
    "\n",
    "    index_to_atomtype = {}\n",
    "    atomtype_bonds = []\n",
    "    atomtype_angles = []\n",
    "    atomtype_dihedrals = []\n",
    "\n",
    "    index_atomtypes = []\n",
    "    index_moleculetype = []\n",
    "    index_atoms = []\n",
    "    index_bonds = []\n",
    "    index_angles = []\n",
    "    index_dihedrals = []\n",
    "    index_pairs = []\n",
    "\n",
    "    with open (\"{0}_resp2.itp\".format(ion_name)) as ff:\n",
    "        line = ff.readline()\n",
    "        while line:\n",
    "            if line.startswith('['):\n",
    "                section = re.match('\\[ \\w+\\ ]', line).captures()[0] #store the section header\n",
    "                line = ff.readline()\n",
    "\n",
    "                while line and not line.isspace(): #section ends with a blank line\n",
    "                    if not line.startswith(';'):\n",
    "\n",
    "                        data = line.split()\n",
    "\n",
    "                        if 'atoms' in section:\n",
    "                            index_to_atomtype[data[0]] = data[1]\n",
    "                            index_atoms.append(line)\n",
    "\n",
    "                        elif 'atomtypes' in section:\n",
    "                            index_atomtypes.append(line)\n",
    "\n",
    "                        elif 'moleculetype' in section:\n",
    "                            index_moleculetype.append(line)\n",
    "\n",
    "                        elif 'bonds' in section:\n",
    "                            atom_i = index_to_atomtype[data[0]]\n",
    "                            atom_j = index_to_atomtype[data[1]]\n",
    "                            atomtype_bonds.append(np.hstack((atom_i, atom_j, data[2:5])))\n",
    "                            index_bonds.append(np.hstack((data[:2])))\n",
    "\n",
    "                        elif 'angles' in section:\n",
    "                            atom_i = index_to_atomtype[data[0]]\n",
    "                            atom_j = index_to_atomtype[data[1]]\n",
    "                            atom_k = index_to_atomtype[data[2]]\n",
    "                            atomtype_angles.append(np.hstack((atom_i, atom_j, atom_k, data[3:6])))\n",
    "                            index_angles.append(np.hstack((data[:3])))\n",
    "\n",
    "                        elif 'dihedrals' in section:\n",
    "                            atom_i = index_to_atomtype[data[0]]\n",
    "                            atom_j = index_to_atomtype[data[1]]\n",
    "                            atom_k = index_to_atomtype[data[2]]\n",
    "                            atom_l = index_to_atomtype[data[3]]\n",
    "                            atomtype_dihedrals.append(np.hstack((atom_i, atom_j, atom_k, atom_l, data[4:8])))\n",
    "                            index_dihedrals.append(np.hstack((data[:5])))\n",
    "\n",
    "                        elif 'pairs' in section:\n",
    "                            index_pairs.append(line)\n",
    "\n",
    "\n",
    "\n",
    "                    line = ff.readline()\n",
    "            line = ff.readline() \n",
    "\n",
    "    ## Removing redundant bad_types:\n",
    "\n",
    "    bondtypes = []\n",
    "    angletypes = []\n",
    "    dihedraltypes = []\n",
    "\n",
    "    for i in np.unique(np.array(atomtype_bonds)[:,:3], axis=0):\n",
    "        a = np.where(np.sum(np.array(atomtype_bonds)[:,:3] == i, axis=1) == 3)\n",
    "        bondtypes.append(np.hstack((i, np.round(np.average(np.array(np.array(atomtype_bonds)[a[0]][:, -2:], dtype=float), axis=0), 6))))\n",
    "    for i in np.unique(np.array(atomtype_angles)[:,:4], axis=0):\n",
    "        a = np.where(np.sum(np.array(atomtype_angles)[:,:4] == i, axis=1) == 4)\n",
    "        angletypes.append(np.hstack((i, np.round(np.average(np.array(np.array(atomtype_angles)[a[0]][:, -2:], dtype=float), axis=0), 6))))   \n",
    "    for i in np.unique(np.array(atomtype_dihedrals)[:,:5], axis=0):\n",
    "        a = np.where(np.sum(np.array(atomtype_dihedrals)[:,:5] == i, axis=1) == 5)\n",
    "        dihedraltypes.append(np.hstack((i, np.round(np.average(np.array(np.array(atomtype_dihedrals)[a[0]][:, -3:], dtype=float), axis=0), 4))))\n",
    "\n",
    "    ## Exporting data\n",
    "\n",
    "    bondtypes = array_to_list_for_write(bondtypes)\n",
    "    angletypes = array_to_list_for_write(angletypes)\n",
    "    dihedraltypes = array_to_list_for_write(dihedraltypes)\n",
    "\n",
    "    with open ('{0}_resp2.itp'.format(re.findall('[a-zA-Z]+', ion_name)[0]), 'w') as fhandle:\n",
    "        fhandle.write('[ moleculetype ]\\n')\n",
    "        fhandle.write('{}    3'.format(re.findall('[a-zA-Z]+', ion_name)[0][:3].upper()))\n",
    "\n",
    "        fhandle.write('\\n[ atoms ]\\n')\n",
    "        fhandle.writelines(index_atoms)\n",
    "\n",
    "        fhandle.write('\\n[ bonds ]\\n')\n",
    "        index_bonds = array_to_list_for_write(index_bonds)\n",
    "        fhandle.writelines(index_bonds)\n",
    "\n",
    "        fhandle.write('\\n[ pairs ]\\n')\n",
    "        fhandle.writelines(index_pairs)\n",
    "\n",
    "        fhandle.write('\\n[ angles ]\\n')\n",
    "        index_angles = array_to_list_for_write(index_angles)\n",
    "        fhandle.writelines(index_angles)\n",
    "\n",
    "        fhandle.write('\\n[ dihedrals ]\\n')\n",
    "        index_dihedrals = array_to_list_for_write(index_dihedrals)\n",
    "        fhandle.writelines(index_dihedrals)\n",
    "\n",
    "    ## Write bond infomation\n",
    "\n",
    "    if os.path.exists('gaff_bon.itp'):\n",
    "        with open(\"gaff_bon.itp\") as fhandle:\n",
    "            lines = fhandle.readlines()\n",
    "\n",
    "        bad_line = [lines.index(i) for i in lines if 'bondtypes' in i or 'angletypes' in i or 'dihedraltypes' in i]\n",
    "        lines.insert(bad_line[0]+1, \"\".join(bondtypes))\n",
    "        lines.insert(bad_line[1]+len(bondtypes)+1, \"\".join(angletypes))\n",
    "        lines.insert(bad_line[2]+len(bondtypes)+len(angletypes)+1, \"\".join(dihedraltypes))\n",
    "\n",
    "        with open (\"gaff_bon.itp\",'w') as ff:\n",
    "            ff.writelines(lines)\n",
    "\n",
    "    else:\n",
    "        with open(\"gaff_bon.itp\", \"w\") as fhandle:    \n",
    "            fhandle.write(\"[ bondtypes ]\\n\")\n",
    "            fhandle.writelines(bondtypes)\n",
    "            fhandle.write(\"\\n[ angletypes ]\\n\")\n",
    "            fhandle.writelines(angletypes)\n",
    "            fhandle.write(\"\\n[ dihedraltypes ]\\n\")\n",
    "            fhandle.writelines(dihedraltypes)\n",
    "\n",
    "    ## Write non-bond information\n",
    "    if os.path.exists('gaff_nonbon.itp'):\n",
    "        for line in index_atomtypes:\n",
    "            os.system(\"echo '{}' >> gaff_nonbon.itp\".format(line.strip()))\n",
    "\n",
    "    else:\n",
    "        with open('gaff_nonbon.itp', 'w') as fhandle:\n",
    "            fhandle.write('[ atomtypes ]\\n')\n",
    "            fhandle.writelines(index_atomtypes)\n"
   ]
  },
  {
   "cell_type": "code",
   "execution_count": 64,
   "id": "746acbcc",
   "metadata": {},
   "outputs": [],
   "source": [
    "def uniq_nonbon():\n",
    "\n",
    "    with open ('gaff_nonbon.itp') as fhandle:\n",
    "        lines = fhandle.readlines()\n",
    "\n",
    "    lines = np.unique(lines)\n",
    "\n",
    "    with open ('gaff_nonbon.itp', 'w') as fhandle:\n",
    "        fhandle.writelines(lines)"
   ]
  },
  {
   "cell_type": "code",
   "execution_count": 65,
   "id": "b81db5ee",
   "metadata": {},
   "outputs": [],
   "source": [
    "def packmol_inp_gen(ion_names):\n",
    "    packmol_input_string = \"\"\"tolerance 2.0\n",
    "\n",
    "# The file type of input and output files is PDB\n",
    "\n",
    "filetype pdb\n",
    "\n",
    "# The name of the output file\n",
    "\n",
    "output ini.pdb\n",
    "\n",
    "# 1000 water molecules and 400 urea molecules will be put in a box\n",
    "# defined by the minimum coordinates x, y and z = 0. 0. 0. and maximum\n",
    "# coordinates 40. 40. 40. That is, they will be put in a cube of side\n",
    "# 40. (the keyword \"inside cube 0. 0. 0. 40.\") could be used as well.\n",
    "\n",
    "structure {}.pdb\n",
    "  number 800\n",
    "  inside box 0. 0. 0. 80. 80. 80.\n",
    "end structure\n",
    "\n",
    "structure {}.pdb\n",
    "  number 800\n",
    "  inside box 0. 0. 0. 80. 80. 80.\n",
    "end structure\n",
    "\"\"\".format(ion_names[0], ion_names[1])\n",
    "    with open ('ini.inp', 'w') as fhandle:\n",
    "        fhandle.writelines(packmol_input_string)"
   ]
  },
  {
   "cell_type": "code",
   "execution_count": 66,
   "id": "e45965fb",
   "metadata": {},
   "outputs": [
    {
     "name": "stderr",
     "output_type": "stream",
     "text": [
      "cp: /scratch/xu.jiam/Gaussian/*py: No such file or directory\n",
      "cp: /scratch/xu.jiam/Gaussian/*mdp: No such file or directory\n",
      "1 molecule converted\n",
      "1 molecule converted\n",
      "sh: sbatch: command not found\n",
      "1 molecule converted\n",
      "1 molecule converted\n",
      "sh: sbatch: command not found\n",
      "cp: /scratch/xu.jiam/packmol/packmol: No such file or directory\n",
      "sh: ./packmol: No such file or directory\n",
      "sh: loadgro: command not found\n",
      "sh: gmx: command not found\n"
     ]
    }
   ],
   "source": [
    "if __name__ == \"__main__\":\n",
    "    ion_names = []\n",
    "    os.system('cp /scratch/xu.jiam/Gaussian/*py ./')\n",
    "    os.system('cp /scratch/xu.jiam/Gaussian/*mdp ./')\n",
    "    sims = ['CCN1C=C[N+](=C1)C', 'C(F)(F)(F)S(=NS(=O)(=O)C(F)(F)F)(=O)[O-]']\n",
    "    for sim in sims:\n",
    "        \n",
    "        ion_name = smiles_to_iupac(sim)\n",
    "        ion_name = re.sub('[ ~!@#$%^&*()_,=-]', '_', ion_name)\n",
    "        ion_names.append(ion_name)\n",
    "        smile_to_gauss(ion_name, sim)\n",
    "        gen_submit(ion_name)\n",
    "        os.system('sbatch handin_{}.slurm'.format(ion_name))\n",
    "        \n",
    "        #job_id = re.findall('[0-9]+', subprocess.check_output([\"sbatch handin.slurm\"], shell=True).decode())[0]  ## submit job and capture jobid.\n",
    "        ### gaussian主程序、结束后\n",
    "        #itp_unify(ion_name)\n",
    "        #os.system(\"JOB_ID {} > gauss_job_id.log\".format(job_id))\n",
    "        \n",
    "    top_file_gen(ion_names)\n",
    "    uniq_nonbon()\n",
    "    packmol_inp_gen(ion_names)\n",
    "    \n",
    "    #os.system('echo \"{}\" >> ini.inp'.format(packmol_input_string))\n",
    "    os.system('cp /scratch/xu.jiam/packmol/packmol ./')\n",
    "    os.system('./packmol < ini.inp')\n",
    "    loadgro()\n",
    "    os.system('mpirun -np 1 gmx_mpi editconf -f ini.pdb -o ini.gro -box 8 8 8')\n",
    "    \n",
    "    \n",
    "    \n",
    "\n",
    "\n",
    "    \n",
    "    "
   ]
  },
  {
   "cell_type": "code",
   "execution_count": null,
   "id": "dcb37826",
   "metadata": {},
   "outputs": [],
   "source": [
    "\n",
    "#ion_name = \"1_1_1_trifluoro_N__trifluoromethylsulfonyl_methanesulfonimidate\"\n",
    "ion_name = \"1_hexyl_3_methylimidazol_3_ium\"\n",
    "itp_unify(ion_name)"
   ]
  },
  {
   "cell_type": "code",
   "execution_count": 43,
   "id": "d7a003c8",
   "metadata": {},
   "outputs": [
    {
     "data": {
      "text/plain": [
       "array(['[ atomtypes ]\\n',\n",
       "       'c2           6    12.010736    0.000000    A      3.399670E-01    3.598240E-01\\n',\n",
       "       'c3           6    12.010736    0.000000    A      3.399670E-01    4.577296E-01\\n',\n",
       "       'f            9    18.998403    0.000000    A      3.118146E-01    2.552240E-01\\n',\n",
       "       'h1           1     1.007941    0.000000    A      2.471353E-01    6.568880E-02\\n',\n",
       "       'h4           1     1.007941    0.000000    A      2.510553E-01    6.276000E-02\\n',\n",
       "       'h5           1     1.007941    0.000000    A      2.421463E-01    6.276000E-02\\n',\n",
       "       'hc           1     1.007941    0.000000    A      2.649533E-01    6.568880E-02\\n',\n",
       "       'na           7    14.006703    0.000000    A      3.249999E-01    7.112800E-01\\n',\n",
       "       'ne           7    14.006703    0.000000    A      3.249999E-01    7.112800E-01\\n',\n",
       "       'o            8    15.999405    0.000000    A      2.959922E-01    8.786400E-01\\n',\n",
       "       's6          16    32.064787    0.000000    A      3.563595E-01    1.046000E+00\\n',\n",
       "       'sy          16    32.064787    0.000000    A      3.563595E-01    1.046000E+00\\n'],\n",
       "      dtype='<U79')"
      ]
     },
     "execution_count": 43,
     "metadata": {},
     "output_type": "execute_result"
    }
   ],
   "source": [
    "np.unique(lines)"
   ]
  },
  {
   "cell_type": "code",
   "execution_count": 44,
   "id": "1c618458",
   "metadata": {},
   "outputs": [
    {
     "data": {
      "text/plain": [
       "['[ atomtypes ]\\n',\n",
       " 'c3           6    12.010736    0.000000    A      3.399670E-01    4.577296E-01\\n',\n",
       " 'f            9    18.998403    0.000000    A      3.118146E-01    2.552240E-01\\n',\n",
       " 's6          16    32.064787    0.000000    A      3.563595E-01    1.046000E+00\\n',\n",
       " 'ne           7    14.006703    0.000000    A      3.249999E-01    7.112800E-01\\n',\n",
       " 'sy          16    32.064787    0.000000    A      3.563595E-01    1.046000E+00\\n',\n",
       " 'o            8    15.999405    0.000000    A      2.959922E-01    8.786400E-01\\n',\n",
       " 'c3           6    12.010736    0.000000    A      3.399670E-01    4.577296E-01\\n',\n",
       " 'na           7    14.006703    0.000000    A      3.249999E-01    7.112800E-01\\n',\n",
       " 'c2           6    12.010736    0.000000    A      3.399670E-01    3.598240E-01\\n',\n",
       " 'hc           1     1.007941    0.000000    A      2.649533E-01    6.568880E-02\\n',\n",
       " 'h1           1     1.007941    0.000000    A      2.471353E-01    6.568880E-02\\n',\n",
       " 'h4           1     1.007941    0.000000    A      2.510553E-01    6.276000E-02\\n',\n",
       " 'h5           1     1.007941    0.000000    A      2.421463E-01    6.276000E-02\\n']"
      ]
     },
     "execution_count": 44,
     "metadata": {},
     "output_type": "execute_result"
    }
   ],
   "source": [
    "lines"
   ]
  },
  {
   "cell_type": "code",
   "execution_count": null,
   "id": "5969a22e",
   "metadata": {},
   "outputs": [],
   "source": [
    "bondtypes"
   ]
  },
  {
   "cell_type": "code",
   "execution_count": null,
   "id": "2f37c3a0",
   "metadata": {},
   "outputs": [],
   "source": [
    "for i in np.unique(np.array(atomtype_angles)[:,:4], axis=0):\n",
    "    a = np.where(np.sum(np.array(atomtype_angles)[:,:4] == i, axis=1) == 4)\n",
    "    print(np.hstack((i, np.average(np.array(np.array(atomtype_angles)[a[0]][:, -2:], dtype=float), axis=0))))"
   ]
  },
  {
   "cell_type": "code",
   "execution_count": null,
   "id": "2dcf94a5",
   "metadata": {},
   "outputs": [],
   "source": [
    "=i"
   ]
  },
  {
   "cell_type": "code",
   "execution_count": null,
   "id": "0b9f673d",
   "metadata": {},
   "outputs": [],
   "source": [
    "b = np.average(np.array(np.array(atomtype_angles)[a[0]][:, -2:], dtype=float), axis=0)"
   ]
  },
  {
   "cell_type": "code",
   "execution_count": null,
   "id": "1f8f765a",
   "metadata": {},
   "outputs": [],
   "source": [
    "np.hstack((i,b))"
   ]
  },
  {
   "cell_type": "code",
   "execution_count": null,
   "id": "49cd67d8",
   "metadata": {},
   "outputs": [],
   "source": [
    "lines.pop(1)"
   ]
  },
  {
   "cell_type": "code",
   "execution_count": null,
   "id": "7f81fed3",
   "metadata": {},
   "outputs": [],
   "source": [
    "lines"
   ]
  },
  {
   "cell_type": "code",
   "execution_count": null,
   "id": "3285f5e2",
   "metadata": {},
   "outputs": [],
   "source": [
    "chg_1 = pd.read_csv('sol.chg', delimiter=' +', header=None, engine='python')\n",
    "chg_2 = pd.read_csv('vac.chg', delimiter=' +', header=None, engine='python')\n",
    "chg_avg = (chg_1.iloc[:,-1] + chg_2.iloc[:,-1])/2\n",
    "chg_avg = chg_avg.round(decimals=4).astype(str)"
   ]
  },
  {
   "cell_type": "code",
   "execution_count": null,
   "id": "d81189eb",
   "metadata": {},
   "outputs": [],
   "source": [
    "mol_output_lines = []\n",
    "count = 0\n",
    "for line in lines:\n",
    "    if re.search(r'-?[0-9]+[.][0-9]+', line):\n",
    "        ori_chg = re.findall(r'(-?[0-9]+[.][0-9]+)', line)[-1] #ori_chg, atom charge in original file.\n",
    "        \n",
    "        if len(ori_chg) == len(chg_avg[count]): ## same sign for new and old charge\n",
    "            line = re.sub(ori_chg, str(chg_avg[count]), line)\n",
    "        \n",
    "        elif len(ori_chg) == len(chg_avg[count])+1: ## old negative, new positive charge\n",
    "            line = re.sub(ori_chg, ' '+str(chg_avg[count]), line)\n",
    "            \n",
    "        elif len(ori_chg) == len(chg_avg[count])-1: ## old positive, new negative charge\n",
    "            line = re.sub(' '+ori_chg, str(chg_avg[count]), line)\n",
    "        \n",
    "        count += 1\n",
    "        mol_output_lines.append(line)\n",
    "    else:\n",
    "        mol_output_lines.append(line)\n",
    "with open('{}_')"
   ]
  },
  {
   "cell_type": "code",
   "execution_count": null,
   "id": "a4ab24d4",
   "metadata": {},
   "outputs": [],
   "source": [
    "chg_avg"
   ]
  },
  {
   "cell_type": "code",
   "execution_count": null,
   "id": "45af7abc",
   "metadata": {},
   "outputs": [],
   "source": [
    "mol_output_lines"
   ]
  },
  {
   "cell_type": "code",
   "execution_count": null,
   "id": "0d740ab6",
   "metadata": {},
   "outputs": [],
   "source": [
    "import pandas as pd"
   ]
  },
  {
   "cell_type": "code",
   "execution_count": null,
   "id": "a1acd02b",
   "metadata": {},
   "outputs": [],
   "source": [
    "chg_1 = pd.read_csv('sol.chg', delimiter=' +', header=None, engine='python')\n",
    "chg_2 = pd.read_csv('vac.chg', delimiter=' +', header=None, engine='python')\n",
    "chg_avg = (chg_1.iloc[:,-1] + chg_2.iloc[:,-1])/2"
   ]
  },
  {
   "cell_type": "code",
   "execution_count": null,
   "id": "3be73579",
   "metadata": {},
   "outputs": [],
   "source": [
    "chg_avg"
   ]
  },
  {
   "cell_type": "code",
   "execution_count": null,
   "id": "012a8f62",
   "metadata": {},
   "outputs": [],
   "source": [
    "chg_avg.iloc[0].astype(str)"
   ]
  },
  {
   "cell_type": "code",
   "execution_count": 193,
   "id": "1baf3743",
   "metadata": {},
   "outputs": [],
   "source": [
    "def my_ceil(a, precision=0):\n",
    "    return np.true_divide(np.ceil(a * 10**precision), 10**precision)\n",
    "\n",
    "def my_floor(a, precision=0):\n",
    "    return np.true_divide(np.floor(a * 10**precision), 10**precision)"
   ]
  },
  {
   "cell_type": "code",
   "execution_count": 223,
   "id": "e90f2f53",
   "metadata": {},
   "outputs": [
    {
     "name": "stdout",
     "output_type": "stream",
     "text": [
      "-0.799999\n"
     ]
    }
   ],
   "source": [
    "import argparse\n",
    "import pandas as pd\n",
    "import regex as re\n",
    "import numpy as np\n",
    "\n",
    "ion_name = \"1_1_1_trifluoro_N__trifluoromethylsulfonyl_methanesulfonimidate\"\n",
    "#ion_name = \"1_hexyl_3_methylimidazol_3_ium\"\n",
    "\n",
    "chg_1 = pd.read_csv('sol_{}.chg'.format(ion_name), delimiter=' +', header=None, engine='python')\n",
    "chg_2 = pd.read_csv('vac_{}.chg'.format(ion_name), delimiter=' +', header=None, engine='python')\n",
    "chg_avg = 0.8*(chg_1.iloc[:,-1] + chg_2.iloc[:,-1])/2\n",
    "chg_avg = chg_avg.round(decimals=6)\n",
    "\n",
    "if sum(chg_avg) > 0:\n",
    "    chg_avg.iloc[-1] = 0.8 - sum(chg_avg[:-1])\n",
    "else:\n",
    "    print(sum(chg_avg))\n",
    "    chg_avg.iloc[-1] = - 0.8 - sum(chg_avg[:-1])\n",
    "\n",
    "chg_avg.iloc[-1] = np.round(chg_avg.iloc[-1], decimals=6)\n",
    "chg_avg = chg_avg.astype(str)\n",
    "mol_output_lines = []\n",
    "count = 0\n",
    "\n",
    "with open('{}.mol2'.format(ion_name)) as ff:\n",
    "    line = ff.readline()\n",
    "    while line:\n",
    "        if re.search(r'-?[0-9]+[.][0-9]+', line):\n",
    "            ori_chg = re.findall(r'(-?[0-9]+[.][0-9]+)', line)[-1] #ori_chg, atom charge in original file.\n",
    "\n",
    "            if len(ori_chg) == len(chg_avg[count])-2: ## same sign for new and old charge\n",
    "                line = re.sub(ori_chg, str(chg_avg[count]), line)\n",
    "\n",
    "                \n",
    "            elif len(ori_chg) == len(chg_avg[count])-1: ## old negative, new positive charge\n",
    "                line = re.sub(ori_chg, ' '+str(chg_avg[count]), line)\n",
    "\n",
    "                \n",
    "            elif len(ori_chg) == len(chg_avg[count])-3: ## old positive, new negative charge\n",
    "                line = re.sub(' '+ori_chg, str(chg_avg[count]), line)\n",
    "\n",
    "\n",
    "            count += 1\n",
    "            mol_output_lines.append(line)\n",
    "        elif \"@<TRIPOS>UNITY_ATOM_ATTR\" in line: \n",
    "            ## skip three lines for sobtop program.\n",
    "            line = ff.readline()\n",
    "            line = ff.readline()\n",
    "\n",
    "        else:\n",
    "            mol_output_lines.append(line)\n",
    "\n",
    "        line = ff.readline()\n",
    "\n",
    "with open('{}_resp2.mol2'.format(ion_name), 'w') as fhandle:\n",
    "\tfhandle.writelines(mol_output_lines)\n",
    "\n"
   ]
  },
  {
   "cell_type": "code",
   "execution_count": 222,
   "id": "6ecf0a7b",
   "metadata": {},
   "outputs": [
    {
     "data": {
      "text/plain": [
       "0     -0.021285\n",
       "1      0.094413\n",
       "2     -0.075029\n",
       "3     -0.014156\n",
       "4     -0.015663\n",
       "5     -0.191095\n",
       "6      0.102109\n",
       "7     -0.135537\n",
       "8     -0.140903\n",
       "9      0.176249\n",
       "10    -0.083651\n",
       "11    -0.262807\n",
       "12     0.013392\n",
       "13     0.013392\n",
       "14     0.013392\n",
       "15    -0.025913\n",
       "16    -0.025913\n",
       "17     0.032281\n",
       "18     0.032281\n",
       "19     0.014811\n",
       "20     0.014811\n",
       "21     0.051826\n",
       "22     0.051826\n",
       "23     0.116325\n",
       "24     0.116325\n",
       "25     0.189423\n",
       "26     0.180245\n",
       "27     0.180311\n",
       "28     0.132847\n",
       "29     0.132847\n",
       "30     0.132846\n",
       "Name: 4, dtype: object"
      ]
     },
     "execution_count": 222,
     "metadata": {},
     "output_type": "execute_result"
    }
   ],
   "source": [
    "chg_avg"
   ]
  },
  {
   "cell_type": "code",
   "execution_count": 71,
   "id": "80098edc",
   "metadata": {},
   "outputs": [
    {
     "data": {
      "text/plain": [
       "array([1, 2, 3, 4])"
      ]
     },
     "execution_count": 71,
     "metadata": {},
     "output_type": "execute_result"
    }
   ],
   "source": [
    "np.hstack(([1,2], [3,4]))"
   ]
  },
  {
   "cell_type": "code",
   "execution_count": 204,
   "id": "ac5cbe4a",
   "metadata": {},
   "outputs": [
    {
     "data": {
      "text/plain": [
       "0.7996"
      ]
     },
     "execution_count": 204,
     "metadata": {},
     "output_type": "execute_result"
    }
   ],
   "source": [
    "sum(np.round(np.array(chg_avg),4))"
   ]
  },
  {
   "cell_type": "code",
   "execution_count": 88,
   "id": "49355a6e",
   "metadata": {},
   "outputs": [
    {
     "ename": "TypeError",
     "evalue": "unsupported operand type(s) for +: 'int' and 'str'",
     "output_type": "error",
     "traceback": [
      "\u001b[0;31m---------------------------------------------------------------------------\u001b[0m",
      "\u001b[0;31mTypeError\u001b[0m                                 Traceback (most recent call last)",
      "Input \u001b[0;32mIn [88]\u001b[0m, in \u001b[0;36m<cell line: 1>\u001b[0;34m()\u001b[0m\n\u001b[0;32m----> 1\u001b[0m \u001b[38;5;28;43msum\u001b[39;49m\u001b[43m(\u001b[49m\u001b[43mchg_avg\u001b[49m\u001b[43m)\u001b[49m\n",
      "\u001b[0;31mTypeError\u001b[0m: unsupported operand type(s) for +: 'int' and 'str'"
     ]
    }
   ],
   "source": [
    "sum(chg_avg)"
   ]
  },
  {
   "cell_type": "code",
   "execution_count": 76,
   "id": "7ab1d3bf",
   "metadata": {},
   "outputs": [
    {
     "data": {
      "text/plain": [
       "array([[1, 2, 3],\n",
       "       [3, 4, 5]])"
      ]
     },
     "execution_count": 76,
     "metadata": {},
     "output_type": "execute_result"
    }
   ],
   "source": [
    "a = np.array([[1,2,3],[3,4,5]])\n",
    "a"
   ]
  },
  {
   "cell_type": "code",
   "execution_count": 90,
   "id": "3061e310",
   "metadata": {},
   "outputs": [
    {
     "data": {
      "text/plain": [
       "array([[1, 2, 3, 1, 2, 3],\n",
       "       [3, 4, 5, 3, 4, 5]])"
      ]
     },
     "execution_count": 90,
     "metadata": {},
     "output_type": "execute_result"
    }
   ],
   "source": [
    "np.column_stack([a,a])"
   ]
  },
  {
   "cell_type": "code",
   "execution_count": 93,
   "id": "7f06218d",
   "metadata": {},
   "outputs": [
    {
     "data": {
      "text/plain": [
       "array([[2, 3],\n",
       "       [4, 5]])"
      ]
     },
     "execution_count": 93,
     "metadata": {},
     "output_type": "execute_result"
    }
   ],
   "source": [
    "a[:,[1,2]]"
   ]
  },
  {
   "cell_type": "code",
   "execution_count": null,
   "id": "e481de54",
   "metadata": {},
   "outputs": [],
   "source": []
  }
 ],
 "metadata": {
  "kernelspec": {
   "display_name": "Python 3 (ipykernel)",
   "language": "python",
   "name": "python3"
  },
  "language_info": {
   "codemirror_mode": {
    "name": "ipython",
    "version": 3
   },
   "file_extension": ".py",
   "mimetype": "text/x-python",
   "name": "python",
   "nbconvert_exporter": "python",
   "pygments_lexer": "ipython3",
   "version": "3.9.12"
  }
 },
 "nbformat": 4,
 "nbformat_minor": 5
}
